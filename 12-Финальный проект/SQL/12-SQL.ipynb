{
 "cells": [
  {
   "cell_type": "markdown",
   "metadata": {},
   "source": [
    "# SQL"
   ]
  },
  {
   "cell_type": "markdown",
   "metadata": {},
   "source": [
    "**Цель:** \n",
    "Вывести ознакомительную информацию из базы данных для дальнейшего формулирования ценностного предложения для нового продукта."
   ]
  },
  {
   "cell_type": "markdown",
   "metadata": {},
   "source": [
    "Коронавирус застал мир врасплох, изменив привычный порядок вещей. В свободное время жители городов больше не выходят на улицу, не посещают кафе и торговые центры. Зато стало больше времени для книг. Это заметили стартаперы — и бросились создавать приложения для тех, кто любит читать.\n",
    "\n",
    "Наша компания решила быть на волне и купила крупный сервис для чтения книг по подписке. Наша первая задача как аналитика — проанализировать базу данных.\n",
    "В ней — информация о книгах, издательствах, авторах, а также пользовательские обзоры книг. Эти данные помогут сформулировать ценностное предложение для нового продукта."
   ]
  },
  {
   "cell_type": "markdown",
   "metadata": {},
   "source": [
    "[Содержание:](#content)\n",
    "<a id='content'></a>\n",
    "\n",
    "[Описание данных](#sql) \n",
    "\n",
    "[Загрузка данных](#sql1)\n",
    "    \n",
    "[Исследование таблицы — выведение первых строк](#sql2)\n",
    "\n",
    "[Посчитаем, сколько книг вышло после 1 января 2000 года](#sql3)\n",
    "\n",
    "[Для каждой книги посчитаем количество обзоров и среднюю оценку](#sql4)\n",
    "\n",
    "[Определим издательство, которое выпустило наибольшее число книг толще 50 страниц — так мы исключим из анализа брошюры](#sql5)\n",
    "\n",
    "[Определим автора с самой высокой средней оценкой книг — будем учитывать только книги с 50 и более оценками.](#sql6)\n",
    "\n",
    "[Посчитаем среднее количество обзоров от пользователей, которые поставили больше 50 оценок](#sql7)\n",
    "\n",
    "[Выводы](#sql8)"
   ]
  },
  {
   "cell_type": "markdown",
   "metadata": {},
   "source": [
    "### Описание данных\n",
    "[](#sql)\n",
    "<a id='sql'></a>\n"
   ]
  },
  {
   "cell_type": "markdown",
   "metadata": {},
   "source": [
    "**Таблица `books`**\n",
    "\n",
    "Содержит данные о книгах:\n",
    "\n",
    "- `book_id` — идентификатор книги;\n",
    "- `author_id` — идентификатор автора;\n",
    "- `title` — название книги;\n",
    "- `num_pages` — количество страниц;\n",
    "- `publication_date` — дата публикации книги;\n",
    "- `publisher_id` — идентификатор издателя.\n",
    "\n",
    "**Таблица `authors`**\n",
    "\n",
    "Содержит данные об авторах:\n",
    "\n",
    "- `author_id` — идентификатор автора;\n",
    "- `author` — имя автора.\n",
    "\n",
    "**Таблица `publishers`**\n",
    "\n",
    "Содержит данные об издательствах:\n",
    "\n",
    "- `publisher_id` — идентификатор издательства;\n",
    "- `publisher` — название издательства;\n",
    "\n",
    "**Таблица `ratings`**\n",
    "\n",
    "Содержит данные о пользовательских оценках книг:\n",
    "\n",
    "- `rating_id` — идентификатор оценки;\n",
    "- `book_id` — идентификатор книги;\n",
    "- `username` — имя пользователя, оставившего оценку;\n",
    "- `rating` — оценка книги.\n",
    "\n",
    "**Таблица `reviews`**\n",
    "\n",
    "Содержит данные о пользовательских обзорах на книги:\n",
    "\n",
    "- `review_id` — идентификатор обзора;\n",
    "- `book_id` — идентификатор книги;\n",
    "- `username` — имя пользователя, написавшего обзор;\n",
    "- `text` — текст обзора."
   ]
  },
  {
   "cell_type": "markdown",
   "metadata": {},
   "source": [
    "### Задания\n",
    "\n",
    "- Посчитаем, сколько книг вышло после 1 января 2000 года;\n",
    "- Для каждой книги посчитаем количество обзоров и среднюю оценку;\n",
    "- Определим издательство, которое выпустило наибольшее число книг толще 50 страниц — так мы исключим из анализа брошюры;\n",
    "- Определим автора с самой высокой средней оценкой книг — будем учитывать только книги с 50 и более оценками;\n",
    "- Посчитаем среднее количество обзоров от пользователей, которые поставили больше 50 оценок."
   ]
  },
  {
   "cell_type": "markdown",
   "metadata": {},
   "source": [
    "[К содержанию](#content)"
   ]
  },
  {
   "cell_type": "markdown",
   "metadata": {},
   "source": [
    "### Загрузка данных\n",
    "[](#sql1)\n",
    "<a id='sql1'></a>"
   ]
  },
  {
   "cell_type": "markdown",
   "metadata": {},
   "source": [
    "Импортируем библиотеки"
   ]
  },
  {
   "cell_type": "code",
   "execution_count": 1,
   "metadata": {},
   "outputs": [],
   "source": [
    "import pandas as pd\n",
    "from sqlalchemy import create_engine "
   ]
  },
  {
   "cell_type": "markdown",
   "metadata": {},
   "source": [
    "Устанавливаем параметры"
   ]
  },
  {
   "cell_type": "code",
   "execution_count": 2,
   "metadata": {},
   "outputs": [],
   "source": [
    "db_config = {'user': 'praktikum_student', # имя пользователя\n",
    " 'pwd': 'Sdf4$2;d-d30pp', # пароль\n",
    " 'host': 'rc1b-wcoijxj3yxfsf3fs.mdb.yandexcloud.net',\n",
    " 'port': 6432, # порт подключения\n",
    " 'db': 'data-analyst-final-project-db'} # название базы данных\n"
   ]
  },
  {
   "cell_type": "code",
   "execution_count": 3,
   "metadata": {},
   "outputs": [],
   "source": [
    "connection_string = 'postgresql://{}:{}@{}:{}/{}'.format(db_config['user'],\n",
    " db_config['pwd'],\n",
    " db_config['host'],\n",
    " db_config['port'],\n",
    " db_config['db']) "
   ]
  },
  {
   "cell_type": "markdown",
   "metadata": {},
   "source": [
    "Сохраняем коннектор"
   ]
  },
  {
   "cell_type": "code",
   "execution_count": 4,
   "metadata": {},
   "outputs": [],
   "source": [
    "engine = create_engine(connection_string, connect_args={'sslmode':'require'})"
   ]
  },
  {
   "cell_type": "markdown",
   "metadata": {},
   "source": [
    "Чтобы выполнить SQL-запрос, используем Pandas:\n",
    "\n",
    "pd.io.sql.read_sql(query, con = engine)"
   ]
  },
  {
   "cell_type": "markdown",
   "metadata": {},
   "source": [
    "[К содержанию](#content)"
   ]
  },
  {
   "cell_type": "markdown",
   "metadata": {},
   "source": [
    "### Исследование таблицы — выведение первых строк\n",
    "[](#sql2)\n",
    "<a id='sql2'></a>"
   ]
  },
  {
   "cell_type": "markdown",
   "metadata": {},
   "source": [
    "Распечатаем первые 5 строк таблицы books:"
   ]
  },
  {
   "cell_type": "code",
   "execution_count": 5,
   "metadata": {},
   "outputs": [
    {
     "data": {
      "text/html": [
       "<div>\n",
       "<style scoped>\n",
       "    .dataframe tbody tr th:only-of-type {\n",
       "        vertical-align: middle;\n",
       "    }\n",
       "\n",
       "    .dataframe tbody tr th {\n",
       "        vertical-align: top;\n",
       "    }\n",
       "\n",
       "    .dataframe thead th {\n",
       "        text-align: right;\n",
       "    }\n",
       "</style>\n",
       "<table border=\"1\" class=\"dataframe\">\n",
       "  <thead>\n",
       "    <tr style=\"text-align: right;\">\n",
       "      <th></th>\n",
       "      <th>book_id</th>\n",
       "      <th>author_id</th>\n",
       "      <th>title</th>\n",
       "      <th>num_pages</th>\n",
       "      <th>publication_date</th>\n",
       "      <th>publisher_id</th>\n",
       "    </tr>\n",
       "  </thead>\n",
       "  <tbody>\n",
       "    <tr>\n",
       "      <th>0</th>\n",
       "      <td>1</td>\n",
       "      <td>546</td>\n",
       "      <td>'Salem's Lot</td>\n",
       "      <td>594</td>\n",
       "      <td>2005-11-01</td>\n",
       "      <td>93</td>\n",
       "    </tr>\n",
       "    <tr>\n",
       "      <th>1</th>\n",
       "      <td>2</td>\n",
       "      <td>465</td>\n",
       "      <td>1 000 Places to See Before You Die</td>\n",
       "      <td>992</td>\n",
       "      <td>2003-05-22</td>\n",
       "      <td>336</td>\n",
       "    </tr>\n",
       "    <tr>\n",
       "      <th>2</th>\n",
       "      <td>3</td>\n",
       "      <td>407</td>\n",
       "      <td>13 Little Blue Envelopes (Little Blue Envelope...</td>\n",
       "      <td>322</td>\n",
       "      <td>2010-12-21</td>\n",
       "      <td>135</td>\n",
       "    </tr>\n",
       "    <tr>\n",
       "      <th>3</th>\n",
       "      <td>4</td>\n",
       "      <td>82</td>\n",
       "      <td>1491: New Revelations of the Americas Before C...</td>\n",
       "      <td>541</td>\n",
       "      <td>2006-10-10</td>\n",
       "      <td>309</td>\n",
       "    </tr>\n",
       "    <tr>\n",
       "      <th>4</th>\n",
       "      <td>5</td>\n",
       "      <td>125</td>\n",
       "      <td>1776</td>\n",
       "      <td>386</td>\n",
       "      <td>2006-07-04</td>\n",
       "      <td>268</td>\n",
       "    </tr>\n",
       "  </tbody>\n",
       "</table>\n",
       "</div>"
      ],
      "text/plain": [
       "   book_id  author_id                                              title  \\\n",
       "0        1        546                                       'Salem's Lot   \n",
       "1        2        465                 1 000 Places to See Before You Die   \n",
       "2        3        407  13 Little Blue Envelopes (Little Blue Envelope...   \n",
       "3        4         82  1491: New Revelations of the Americas Before C...   \n",
       "4        5        125                                               1776   \n",
       "\n",
       "   num_pages publication_date  publisher_id  \n",
       "0        594       2005-11-01            93  \n",
       "1        992       2003-05-22           336  \n",
       "2        322       2010-12-21           135  \n",
       "3        541       2006-10-10           309  \n",
       "4        386       2006-07-04           268  "
      ]
     },
     "execution_count": 5,
     "metadata": {},
     "output_type": "execute_result"
    }
   ],
   "source": [
    "query_1 = '''\n",
    "         SELECT *\n",
    "         FROM books\n",
    "         LIMIT 5\n",
    "        '''\n",
    "books = pd.io.sql.read_sql(query_1, con = engine)\n",
    "books"
   ]
  },
  {
   "cell_type": "markdown",
   "metadata": {},
   "source": [
    "Распечатаем первые 5 строк таблицы authors:"
   ]
  },
  {
   "cell_type": "code",
   "execution_count": 6,
   "metadata": {},
   "outputs": [
    {
     "data": {
      "text/html": [
       "<div>\n",
       "<style scoped>\n",
       "    .dataframe tbody tr th:only-of-type {\n",
       "        vertical-align: middle;\n",
       "    }\n",
       "\n",
       "    .dataframe tbody tr th {\n",
       "        vertical-align: top;\n",
       "    }\n",
       "\n",
       "    .dataframe thead th {\n",
       "        text-align: right;\n",
       "    }\n",
       "</style>\n",
       "<table border=\"1\" class=\"dataframe\">\n",
       "  <thead>\n",
       "    <tr style=\"text-align: right;\">\n",
       "      <th></th>\n",
       "      <th>author_id</th>\n",
       "      <th>author</th>\n",
       "    </tr>\n",
       "  </thead>\n",
       "  <tbody>\n",
       "    <tr>\n",
       "      <th>0</th>\n",
       "      <td>1</td>\n",
       "      <td>A.S. Byatt</td>\n",
       "    </tr>\n",
       "    <tr>\n",
       "      <th>1</th>\n",
       "      <td>2</td>\n",
       "      <td>Aesop/Laura Harris/Laura Gibbs</td>\n",
       "    </tr>\n",
       "    <tr>\n",
       "      <th>2</th>\n",
       "      <td>3</td>\n",
       "      <td>Agatha Christie</td>\n",
       "    </tr>\n",
       "    <tr>\n",
       "      <th>3</th>\n",
       "      <td>4</td>\n",
       "      <td>Alan Brennert</td>\n",
       "    </tr>\n",
       "    <tr>\n",
       "      <th>4</th>\n",
       "      <td>5</td>\n",
       "      <td>Alan Moore/David   Lloyd</td>\n",
       "    </tr>\n",
       "  </tbody>\n",
       "</table>\n",
       "</div>"
      ],
      "text/plain": [
       "   author_id                          author\n",
       "0          1                      A.S. Byatt\n",
       "1          2  Aesop/Laura Harris/Laura Gibbs\n",
       "2          3                 Agatha Christie\n",
       "3          4                   Alan Brennert\n",
       "4          5        Alan Moore/David   Lloyd"
      ]
     },
     "execution_count": 6,
     "metadata": {},
     "output_type": "execute_result"
    }
   ],
   "source": [
    "query_2 = '''\n",
    "         SELECT *\n",
    "         FROM authors\n",
    "         LIMIT 5\n",
    "        '''\n",
    "authors = pd.io.sql.read_sql(query_2, con = engine)\n",
    "authors"
   ]
  },
  {
   "cell_type": "markdown",
   "metadata": {},
   "source": [
    "Распечатаем первые 5 строк таблицы publishers:"
   ]
  },
  {
   "cell_type": "code",
   "execution_count": 7,
   "metadata": {},
   "outputs": [
    {
     "data": {
      "text/html": [
       "<div>\n",
       "<style scoped>\n",
       "    .dataframe tbody tr th:only-of-type {\n",
       "        vertical-align: middle;\n",
       "    }\n",
       "\n",
       "    .dataframe tbody tr th {\n",
       "        vertical-align: top;\n",
       "    }\n",
       "\n",
       "    .dataframe thead th {\n",
       "        text-align: right;\n",
       "    }\n",
       "</style>\n",
       "<table border=\"1\" class=\"dataframe\">\n",
       "  <thead>\n",
       "    <tr style=\"text-align: right;\">\n",
       "      <th></th>\n",
       "      <th>publisher_id</th>\n",
       "      <th>publisher</th>\n",
       "    </tr>\n",
       "  </thead>\n",
       "  <tbody>\n",
       "    <tr>\n",
       "      <th>0</th>\n",
       "      <td>1</td>\n",
       "      <td>Ace</td>\n",
       "    </tr>\n",
       "    <tr>\n",
       "      <th>1</th>\n",
       "      <td>2</td>\n",
       "      <td>Ace Book</td>\n",
       "    </tr>\n",
       "    <tr>\n",
       "      <th>2</th>\n",
       "      <td>3</td>\n",
       "      <td>Ace Books</td>\n",
       "    </tr>\n",
       "    <tr>\n",
       "      <th>3</th>\n",
       "      <td>4</td>\n",
       "      <td>Ace Hardcover</td>\n",
       "    </tr>\n",
       "    <tr>\n",
       "      <th>4</th>\n",
       "      <td>5</td>\n",
       "      <td>Addison Wesley Publishing Company</td>\n",
       "    </tr>\n",
       "  </tbody>\n",
       "</table>\n",
       "</div>"
      ],
      "text/plain": [
       "   publisher_id                          publisher\n",
       "0             1                                Ace\n",
       "1             2                           Ace Book\n",
       "2             3                          Ace Books\n",
       "3             4                      Ace Hardcover\n",
       "4             5  Addison Wesley Publishing Company"
      ]
     },
     "execution_count": 7,
     "metadata": {},
     "output_type": "execute_result"
    }
   ],
   "source": [
    "query_3 = '''\n",
    "         SELECT *\n",
    "         FROM publishers\n",
    "         LIMIT 5\n",
    "        '''\n",
    "publishers = pd.io.sql.read_sql(query_3, con = engine)\n",
    "publishers"
   ]
  },
  {
   "cell_type": "markdown",
   "metadata": {},
   "source": [
    "Распечатаем первые 5 строк таблицы ratings:"
   ]
  },
  {
   "cell_type": "code",
   "execution_count": 8,
   "metadata": {},
   "outputs": [
    {
     "data": {
      "text/html": [
       "<div>\n",
       "<style scoped>\n",
       "    .dataframe tbody tr th:only-of-type {\n",
       "        vertical-align: middle;\n",
       "    }\n",
       "\n",
       "    .dataframe tbody tr th {\n",
       "        vertical-align: top;\n",
       "    }\n",
       "\n",
       "    .dataframe thead th {\n",
       "        text-align: right;\n",
       "    }\n",
       "</style>\n",
       "<table border=\"1\" class=\"dataframe\">\n",
       "  <thead>\n",
       "    <tr style=\"text-align: right;\">\n",
       "      <th></th>\n",
       "      <th>rating_id</th>\n",
       "      <th>book_id</th>\n",
       "      <th>username</th>\n",
       "      <th>rating</th>\n",
       "    </tr>\n",
       "  </thead>\n",
       "  <tbody>\n",
       "    <tr>\n",
       "      <th>0</th>\n",
       "      <td>1</td>\n",
       "      <td>1</td>\n",
       "      <td>ryanfranco</td>\n",
       "      <td>4</td>\n",
       "    </tr>\n",
       "    <tr>\n",
       "      <th>1</th>\n",
       "      <td>2</td>\n",
       "      <td>1</td>\n",
       "      <td>grantpatricia</td>\n",
       "      <td>2</td>\n",
       "    </tr>\n",
       "    <tr>\n",
       "      <th>2</th>\n",
       "      <td>3</td>\n",
       "      <td>1</td>\n",
       "      <td>brandtandrea</td>\n",
       "      <td>5</td>\n",
       "    </tr>\n",
       "    <tr>\n",
       "      <th>3</th>\n",
       "      <td>4</td>\n",
       "      <td>2</td>\n",
       "      <td>lorichen</td>\n",
       "      <td>3</td>\n",
       "    </tr>\n",
       "    <tr>\n",
       "      <th>4</th>\n",
       "      <td>5</td>\n",
       "      <td>2</td>\n",
       "      <td>mariokeller</td>\n",
       "      <td>2</td>\n",
       "    </tr>\n",
       "  </tbody>\n",
       "</table>\n",
       "</div>"
      ],
      "text/plain": [
       "   rating_id  book_id       username  rating\n",
       "0          1        1     ryanfranco       4\n",
       "1          2        1  grantpatricia       2\n",
       "2          3        1   brandtandrea       5\n",
       "3          4        2       lorichen       3\n",
       "4          5        2    mariokeller       2"
      ]
     },
     "execution_count": 8,
     "metadata": {},
     "output_type": "execute_result"
    }
   ],
   "source": [
    "query_4 = '''\n",
    "         SELECT *\n",
    "         FROM ratings\n",
    "         LIMIT 5\n",
    "        '''\n",
    "ratings = pd.io.sql.read_sql(query_4, con = engine)\n",
    "ratings"
   ]
  },
  {
   "cell_type": "markdown",
   "metadata": {},
   "source": [
    "Распечатаем первые 5 строк таблицы reviews:"
   ]
  },
  {
   "cell_type": "code",
   "execution_count": 9,
   "metadata": {},
   "outputs": [
    {
     "data": {
      "text/html": [
       "<div>\n",
       "<style scoped>\n",
       "    .dataframe tbody tr th:only-of-type {\n",
       "        vertical-align: middle;\n",
       "    }\n",
       "\n",
       "    .dataframe tbody tr th {\n",
       "        vertical-align: top;\n",
       "    }\n",
       "\n",
       "    .dataframe thead th {\n",
       "        text-align: right;\n",
       "    }\n",
       "</style>\n",
       "<table border=\"1\" class=\"dataframe\">\n",
       "  <thead>\n",
       "    <tr style=\"text-align: right;\">\n",
       "      <th></th>\n",
       "      <th>review_id</th>\n",
       "      <th>book_id</th>\n",
       "      <th>username</th>\n",
       "      <th>text</th>\n",
       "    </tr>\n",
       "  </thead>\n",
       "  <tbody>\n",
       "    <tr>\n",
       "      <th>0</th>\n",
       "      <td>1</td>\n",
       "      <td>1</td>\n",
       "      <td>brandtandrea</td>\n",
       "      <td>Mention society tell send professor analysis. ...</td>\n",
       "    </tr>\n",
       "    <tr>\n",
       "      <th>1</th>\n",
       "      <td>2</td>\n",
       "      <td>1</td>\n",
       "      <td>ryanfranco</td>\n",
       "      <td>Foot glass pretty audience hit themselves. Amo...</td>\n",
       "    </tr>\n",
       "    <tr>\n",
       "      <th>2</th>\n",
       "      <td>3</td>\n",
       "      <td>2</td>\n",
       "      <td>lorichen</td>\n",
       "      <td>Listen treat keep worry. Miss husband tax but ...</td>\n",
       "    </tr>\n",
       "    <tr>\n",
       "      <th>3</th>\n",
       "      <td>4</td>\n",
       "      <td>3</td>\n",
       "      <td>johnsonamanda</td>\n",
       "      <td>Finally month interesting blue could nature cu...</td>\n",
       "    </tr>\n",
       "    <tr>\n",
       "      <th>4</th>\n",
       "      <td>5</td>\n",
       "      <td>3</td>\n",
       "      <td>scotttamara</td>\n",
       "      <td>Nation purpose heavy give wait song will. List...</td>\n",
       "    </tr>\n",
       "  </tbody>\n",
       "</table>\n",
       "</div>"
      ],
      "text/plain": [
       "   review_id  book_id       username  \\\n",
       "0          1        1   brandtandrea   \n",
       "1          2        1     ryanfranco   \n",
       "2          3        2       lorichen   \n",
       "3          4        3  johnsonamanda   \n",
       "4          5        3    scotttamara   \n",
       "\n",
       "                                                text  \n",
       "0  Mention society tell send professor analysis. ...  \n",
       "1  Foot glass pretty audience hit themselves. Amo...  \n",
       "2  Listen treat keep worry. Miss husband tax but ...  \n",
       "3  Finally month interesting blue could nature cu...  \n",
       "4  Nation purpose heavy give wait song will. List...  "
      ]
     },
     "execution_count": 9,
     "metadata": {},
     "output_type": "execute_result"
    }
   ],
   "source": [
    "query_5 = '''\n",
    "         SELECT *\n",
    "         FROM reviews\n",
    "         LIMIT 5\n",
    "        '''\n",
    "reviews = pd.io.sql.read_sql(query_5, con = engine)\n",
    "reviews"
   ]
  },
  {
   "cell_type": "markdown",
   "metadata": {},
   "source": [
    "При выведении первых строк таблиц, отметим, что названия столбцов адекватно отображают своё содержимое. Явных признаков некорректного заполнения не обнаружено."
   ]
  },
  {
   "cell_type": "markdown",
   "metadata": {},
   "source": [
    "[К содержанию](#content)"
   ]
  },
  {
   "cell_type": "markdown",
   "metadata": {},
   "source": [
    "### Посчитаем, сколько книг вышло после 1 января 2000 года\n",
    "[](#sql3)\n",
    "<a id='sql3'></a>"
   ]
  },
  {
   "cell_type": "markdown",
   "metadata": {},
   "source": [
    "**Таблица `books`**\n",
    "\n",
    "Содержит данные о книгах:\n",
    "\n",
    "- `book_id` — идентификатор книги;\n",
    "- `author_id` — идентификатор автора;\n",
    "- `title` — название книги;\n",
    "- `num_pages` — количество страниц;\n",
    "- `publication_date` — дата публикации книги;\n",
    "- `publisher_id` — идентификатор издателя."
   ]
  },
  {
   "cell_type": "code",
   "execution_count": 10,
   "metadata": {},
   "outputs": [
    {
     "data": {
      "text/html": [
       "<div>\n",
       "<style scoped>\n",
       "    .dataframe tbody tr th:only-of-type {\n",
       "        vertical-align: middle;\n",
       "    }\n",
       "\n",
       "    .dataframe tbody tr th {\n",
       "        vertical-align: top;\n",
       "    }\n",
       "\n",
       "    .dataframe thead th {\n",
       "        text-align: right;\n",
       "    }\n",
       "</style>\n",
       "<table border=\"1\" class=\"dataframe\">\n",
       "  <thead>\n",
       "    <tr style=\"text-align: right;\">\n",
       "      <th></th>\n",
       "      <th>book_id</th>\n",
       "      <th>author_id</th>\n",
       "      <th>title</th>\n",
       "      <th>num_pages</th>\n",
       "      <th>publication_date</th>\n",
       "      <th>publisher_id</th>\n",
       "    </tr>\n",
       "  </thead>\n",
       "  <tbody>\n",
       "    <tr>\n",
       "      <th>0</th>\n",
       "      <td>1</td>\n",
       "      <td>546</td>\n",
       "      <td>'Salem's Lot</td>\n",
       "      <td>594</td>\n",
       "      <td>2005-11-01</td>\n",
       "      <td>93</td>\n",
       "    </tr>\n",
       "    <tr>\n",
       "      <th>1</th>\n",
       "      <td>2</td>\n",
       "      <td>465</td>\n",
       "      <td>1 000 Places to See Before You Die</td>\n",
       "      <td>992</td>\n",
       "      <td>2003-05-22</td>\n",
       "      <td>336</td>\n",
       "    </tr>\n",
       "    <tr>\n",
       "      <th>2</th>\n",
       "      <td>3</td>\n",
       "      <td>407</td>\n",
       "      <td>13 Little Blue Envelopes (Little Blue Envelope...</td>\n",
       "      <td>322</td>\n",
       "      <td>2010-12-21</td>\n",
       "      <td>135</td>\n",
       "    </tr>\n",
       "    <tr>\n",
       "      <th>3</th>\n",
       "      <td>4</td>\n",
       "      <td>82</td>\n",
       "      <td>1491: New Revelations of the Americas Before C...</td>\n",
       "      <td>541</td>\n",
       "      <td>2006-10-10</td>\n",
       "      <td>309</td>\n",
       "    </tr>\n",
       "    <tr>\n",
       "      <th>4</th>\n",
       "      <td>5</td>\n",
       "      <td>125</td>\n",
       "      <td>1776</td>\n",
       "      <td>386</td>\n",
       "      <td>2006-07-04</td>\n",
       "      <td>268</td>\n",
       "    </tr>\n",
       "  </tbody>\n",
       "</table>\n",
       "</div>"
      ],
      "text/plain": [
       "   book_id  author_id                                              title  \\\n",
       "0        1        546                                       'Salem's Lot   \n",
       "1        2        465                 1 000 Places to See Before You Die   \n",
       "2        3        407  13 Little Blue Envelopes (Little Blue Envelope...   \n",
       "3        4         82  1491: New Revelations of the Americas Before C...   \n",
       "4        5        125                                               1776   \n",
       "\n",
       "   num_pages publication_date  publisher_id  \n",
       "0        594       2005-11-01            93  \n",
       "1        992       2003-05-22           336  \n",
       "2        322       2010-12-21           135  \n",
       "3        541       2006-10-10           309  \n",
       "4        386       2006-07-04           268  "
      ]
     },
     "execution_count": 10,
     "metadata": {},
     "output_type": "execute_result"
    }
   ],
   "source": [
    "books"
   ]
  },
  {
   "cell_type": "markdown",
   "metadata": {},
   "source": [
    "Посчитаем, сколько книг вышло после 1 января 2000 года;"
   ]
  },
  {
   "cell_type": "code",
   "execution_count": 11,
   "metadata": {},
   "outputs": [
    {
     "data": {
      "text/html": [
       "<div>\n",
       "<style scoped>\n",
       "    .dataframe tbody tr th:only-of-type {\n",
       "        vertical-align: middle;\n",
       "    }\n",
       "\n",
       "    .dataframe tbody tr th {\n",
       "        vertical-align: top;\n",
       "    }\n",
       "\n",
       "    .dataframe thead th {\n",
       "        text-align: right;\n",
       "    }\n",
       "</style>\n",
       "<table border=\"1\" class=\"dataframe\">\n",
       "  <thead>\n",
       "    <tr style=\"text-align: right;\">\n",
       "      <th></th>\n",
       "      <th>count</th>\n",
       "    </tr>\n",
       "  </thead>\n",
       "  <tbody>\n",
       "    <tr>\n",
       "      <th>0</th>\n",
       "      <td>821</td>\n",
       "    </tr>\n",
       "  </tbody>\n",
       "</table>\n",
       "</div>"
      ],
      "text/plain": [
       "   count\n",
       "0    821"
      ]
     },
     "execution_count": 11,
     "metadata": {},
     "output_type": "execute_result"
    }
   ],
   "source": [
    "query_6 = '''\n",
    "         SELECT \n",
    "               COUNT(book_id)\n",
    "         FROM  books\n",
    "         WHERE \n",
    "               publication_date >= '01-01-2000'\n",
    "        '''\n",
    "books_after_2000 = pd.io.sql.read_sql(query_6, con = engine)\n",
    "books_after_2000"
   ]
  },
  {
   "cell_type": "markdown",
   "metadata": {},
   "source": [
    "По данным таблицы books, после первого января 2000 года вышлa 821 книгa."
   ]
  },
  {
   "cell_type": "markdown",
   "metadata": {},
   "source": [
    "[К содержанию](#content)"
   ]
  },
  {
   "cell_type": "markdown",
   "metadata": {},
   "source": [
    "### Для каждой книги посчитаем количество обзоров и среднюю оценку\n",
    "[](#sql4)\n",
    "<a id='sql4'></a>"
   ]
  },
  {
   "cell_type": "markdown",
   "metadata": {},
   "source": [
    "**Таблица `ratings`**\n",
    "\n",
    "Содержит данные о пользовательских оценках книг:\n",
    "\n",
    "- `rating_id` — идентификатор оценки;\n",
    "- `book_id` — идентификатор книги;\n",
    "- `username` — имя пользователя, оставившего оценку;\n",
    "- `rating` — оценка книги.\n",
    "\n",
    "**Таблица `reviews`**\n",
    "\n",
    "Содержит данные о пользовательских обзорах на книги:\n",
    "\n",
    "- `review_id` — идентификатор обзора;\n",
    "- `book_id` — идентификатор книги;\n",
    "- `username` — имя пользователя, написавшего обзор;\n",
    "- `text` — текст обзора."
   ]
  },
  {
   "cell_type": "code",
   "execution_count": 12,
   "metadata": {},
   "outputs": [
    {
     "data": {
      "text/html": [
       "<div>\n",
       "<style scoped>\n",
       "    .dataframe tbody tr th:only-of-type {\n",
       "        vertical-align: middle;\n",
       "    }\n",
       "\n",
       "    .dataframe tbody tr th {\n",
       "        vertical-align: top;\n",
       "    }\n",
       "\n",
       "    .dataframe thead th {\n",
       "        text-align: right;\n",
       "    }\n",
       "</style>\n",
       "<table border=\"1\" class=\"dataframe\">\n",
       "  <thead>\n",
       "    <tr style=\"text-align: right;\">\n",
       "      <th></th>\n",
       "      <th>rating_id</th>\n",
       "      <th>book_id</th>\n",
       "      <th>username</th>\n",
       "      <th>rating</th>\n",
       "    </tr>\n",
       "  </thead>\n",
       "  <tbody>\n",
       "    <tr>\n",
       "      <th>0</th>\n",
       "      <td>1</td>\n",
       "      <td>1</td>\n",
       "      <td>ryanfranco</td>\n",
       "      <td>4</td>\n",
       "    </tr>\n",
       "    <tr>\n",
       "      <th>1</th>\n",
       "      <td>2</td>\n",
       "      <td>1</td>\n",
       "      <td>grantpatricia</td>\n",
       "      <td>2</td>\n",
       "    </tr>\n",
       "    <tr>\n",
       "      <th>2</th>\n",
       "      <td>3</td>\n",
       "      <td>1</td>\n",
       "      <td>brandtandrea</td>\n",
       "      <td>5</td>\n",
       "    </tr>\n",
       "    <tr>\n",
       "      <th>3</th>\n",
       "      <td>4</td>\n",
       "      <td>2</td>\n",
       "      <td>lorichen</td>\n",
       "      <td>3</td>\n",
       "    </tr>\n",
       "    <tr>\n",
       "      <th>4</th>\n",
       "      <td>5</td>\n",
       "      <td>2</td>\n",
       "      <td>mariokeller</td>\n",
       "      <td>2</td>\n",
       "    </tr>\n",
       "  </tbody>\n",
       "</table>\n",
       "</div>"
      ],
      "text/plain": [
       "   rating_id  book_id       username  rating\n",
       "0          1        1     ryanfranco       4\n",
       "1          2        1  grantpatricia       2\n",
       "2          3        1   brandtandrea       5\n",
       "3          4        2       lorichen       3\n",
       "4          5        2    mariokeller       2"
      ]
     },
     "execution_count": 12,
     "metadata": {},
     "output_type": "execute_result"
    }
   ],
   "source": [
    "ratings"
   ]
  },
  {
   "cell_type": "code",
   "execution_count": 13,
   "metadata": {},
   "outputs": [
    {
     "data": {
      "text/html": [
       "<div>\n",
       "<style scoped>\n",
       "    .dataframe tbody tr th:only-of-type {\n",
       "        vertical-align: middle;\n",
       "    }\n",
       "\n",
       "    .dataframe tbody tr th {\n",
       "        vertical-align: top;\n",
       "    }\n",
       "\n",
       "    .dataframe thead th {\n",
       "        text-align: right;\n",
       "    }\n",
       "</style>\n",
       "<table border=\"1\" class=\"dataframe\">\n",
       "  <thead>\n",
       "    <tr style=\"text-align: right;\">\n",
       "      <th></th>\n",
       "      <th>review_id</th>\n",
       "      <th>book_id</th>\n",
       "      <th>username</th>\n",
       "      <th>text</th>\n",
       "    </tr>\n",
       "  </thead>\n",
       "  <tbody>\n",
       "    <tr>\n",
       "      <th>0</th>\n",
       "      <td>1</td>\n",
       "      <td>1</td>\n",
       "      <td>brandtandrea</td>\n",
       "      <td>Mention society tell send professor analysis. ...</td>\n",
       "    </tr>\n",
       "    <tr>\n",
       "      <th>1</th>\n",
       "      <td>2</td>\n",
       "      <td>1</td>\n",
       "      <td>ryanfranco</td>\n",
       "      <td>Foot glass pretty audience hit themselves. Amo...</td>\n",
       "    </tr>\n",
       "    <tr>\n",
       "      <th>2</th>\n",
       "      <td>3</td>\n",
       "      <td>2</td>\n",
       "      <td>lorichen</td>\n",
       "      <td>Listen treat keep worry. Miss husband tax but ...</td>\n",
       "    </tr>\n",
       "    <tr>\n",
       "      <th>3</th>\n",
       "      <td>4</td>\n",
       "      <td>3</td>\n",
       "      <td>johnsonamanda</td>\n",
       "      <td>Finally month interesting blue could nature cu...</td>\n",
       "    </tr>\n",
       "    <tr>\n",
       "      <th>4</th>\n",
       "      <td>5</td>\n",
       "      <td>3</td>\n",
       "      <td>scotttamara</td>\n",
       "      <td>Nation purpose heavy give wait song will. List...</td>\n",
       "    </tr>\n",
       "  </tbody>\n",
       "</table>\n",
       "</div>"
      ],
      "text/plain": [
       "   review_id  book_id       username  \\\n",
       "0          1        1   brandtandrea   \n",
       "1          2        1     ryanfranco   \n",
       "2          3        2       lorichen   \n",
       "3          4        3  johnsonamanda   \n",
       "4          5        3    scotttamara   \n",
       "\n",
       "                                                text  \n",
       "0  Mention society tell send professor analysis. ...  \n",
       "1  Foot glass pretty audience hit themselves. Amo...  \n",
       "2  Listen treat keep worry. Miss husband tax but ...  \n",
       "3  Finally month interesting blue could nature cu...  \n",
       "4  Nation purpose heavy give wait song will. List...  "
      ]
     },
     "execution_count": 13,
     "metadata": {},
     "output_type": "execute_result"
    }
   ],
   "source": [
    "reviews"
   ]
  },
  {
   "cell_type": "code",
   "execution_count": 14,
   "metadata": {},
   "outputs": [
    {
     "data": {
      "text/html": [
       "<div>\n",
       "<style scoped>\n",
       "    .dataframe tbody tr th:only-of-type {\n",
       "        vertical-align: middle;\n",
       "    }\n",
       "\n",
       "    .dataframe tbody tr th {\n",
       "        vertical-align: top;\n",
       "    }\n",
       "\n",
       "    .dataframe thead th {\n",
       "        text-align: right;\n",
       "    }\n",
       "</style>\n",
       "<table border=\"1\" class=\"dataframe\">\n",
       "  <thead>\n",
       "    <tr style=\"text-align: right;\">\n",
       "      <th></th>\n",
       "      <th>book_id</th>\n",
       "      <th>title</th>\n",
       "      <th>rating_avg</th>\n",
       "      <th>count_review</th>\n",
       "    </tr>\n",
       "  </thead>\n",
       "  <tbody>\n",
       "    <tr>\n",
       "      <th>0</th>\n",
       "      <td>948</td>\n",
       "      <td>Twilight (Twilight  #1)</td>\n",
       "      <td>3.662500</td>\n",
       "      <td>7</td>\n",
       "    </tr>\n",
       "    <tr>\n",
       "      <th>1</th>\n",
       "      <td>302</td>\n",
       "      <td>Harry Potter and the Prisoner of Azkaban (Harr...</td>\n",
       "      <td>4.414634</td>\n",
       "      <td>6</td>\n",
       "    </tr>\n",
       "    <tr>\n",
       "      <th>2</th>\n",
       "      <td>299</td>\n",
       "      <td>Harry Potter and the Chamber of Secrets (Harry...</td>\n",
       "      <td>4.287500</td>\n",
       "      <td>6</td>\n",
       "    </tr>\n",
       "    <tr>\n",
       "      <th>3</th>\n",
       "      <td>656</td>\n",
       "      <td>The Book Thief</td>\n",
       "      <td>4.264151</td>\n",
       "      <td>6</td>\n",
       "    </tr>\n",
       "    <tr>\n",
       "      <th>4</th>\n",
       "      <td>734</td>\n",
       "      <td>The Glass Castle</td>\n",
       "      <td>4.206897</td>\n",
       "      <td>6</td>\n",
       "    </tr>\n",
       "    <tr>\n",
       "      <th>...</th>\n",
       "      <td>...</td>\n",
       "      <td>...</td>\n",
       "      <td>...</td>\n",
       "      <td>...</td>\n",
       "    </tr>\n",
       "    <tr>\n",
       "      <th>989</th>\n",
       "      <td>186</td>\n",
       "      <td>Death: The High Cost of Living</td>\n",
       "      <td>3.000000</td>\n",
       "      <td>1</td>\n",
       "    </tr>\n",
       "    <tr>\n",
       "      <th>990</th>\n",
       "      <td>446</td>\n",
       "      <td>Moo  Baa  La La La!</td>\n",
       "      <td>3.000000</td>\n",
       "      <td>1</td>\n",
       "    </tr>\n",
       "    <tr>\n",
       "      <th>991</th>\n",
       "      <td>2</td>\n",
       "      <td>1 000 Places to See Before You Die</td>\n",
       "      <td>2.500000</td>\n",
       "      <td>1</td>\n",
       "    </tr>\n",
       "    <tr>\n",
       "      <th>992</th>\n",
       "      <td>318</td>\n",
       "      <td>History of Beauty</td>\n",
       "      <td>2.500000</td>\n",
       "      <td>1</td>\n",
       "    </tr>\n",
       "    <tr>\n",
       "      <th>993</th>\n",
       "      <td>943</td>\n",
       "      <td>Tsubasa: RESERVoir CHRoNiCLE  Vol. 1</td>\n",
       "      <td>2.500000</td>\n",
       "      <td>1</td>\n",
       "    </tr>\n",
       "  </tbody>\n",
       "</table>\n",
       "<p>994 rows × 4 columns</p>\n",
       "</div>"
      ],
      "text/plain": [
       "     book_id                                              title  rating_avg  \\\n",
       "0        948                            Twilight (Twilight  #1)    3.662500   \n",
       "1        302  Harry Potter and the Prisoner of Azkaban (Harr...    4.414634   \n",
       "2        299  Harry Potter and the Chamber of Secrets (Harry...    4.287500   \n",
       "3        656                                     The Book Thief    4.264151   \n",
       "4        734                                   The Glass Castle    4.206897   \n",
       "..       ...                                                ...         ...   \n",
       "989      186                     Death: The High Cost of Living    3.000000   \n",
       "990      446                                Moo  Baa  La La La!    3.000000   \n",
       "991        2                 1 000 Places to See Before You Die    2.500000   \n",
       "992      318                                  History of Beauty    2.500000   \n",
       "993      943               Tsubasa: RESERVoir CHRoNiCLE  Vol. 1    2.500000   \n",
       "\n",
       "     count_review  \n",
       "0               7  \n",
       "1               6  \n",
       "2               6  \n",
       "3               6  \n",
       "4               6  \n",
       "..            ...  \n",
       "989             1  \n",
       "990             1  \n",
       "991             1  \n",
       "992             1  \n",
       "993             1  \n",
       "\n",
       "[994 rows x 4 columns]"
      ]
     },
     "execution_count": 14,
     "metadata": {},
     "output_type": "execute_result"
    }
   ],
   "source": [
    "query_7 = '''\n",
    "         SELECT\n",
    "              SQB.book_id,\n",
    "              SQB.title,\n",
    "              AVG(SQB2.avg_rating) AS rating_avg,\n",
    "              COUNT(DISTINCT SQB3.count_review) AS count_review\n",
    "         FROM \n",
    "              (\n",
    "              SELECT\n",
    "                       books.book_id,\n",
    "                       books.title\n",
    "              FROM  \n",
    "                       books   \n",
    "              GROUP BY\n",
    "                       books.book_id\n",
    "                       \n",
    "               ORDER BY\n",
    "                      books.title\n",
    "                ) AS SQB\n",
    "               \n",
    "                       LEFT JOIN (\n",
    "                      \n",
    "                                    SELECT\n",
    "                                           ratings.book_id,\n",
    "                                           AVG(ratings.rating) AS avg_rating\n",
    "                                    FROM \n",
    "                                           ratings\n",
    "                                    GROUP BY  \n",
    "                                           ratings.book_id\n",
    "                                    ORDER BY \n",
    "                                           avg_rating DESC  \n",
    "                                    \n",
    "                                  \n",
    "                                    )  AS SQB2 ON SQB2.book_id = SQB.book_id\n",
    "                                    \n",
    "                                                    INNER JOIN (\n",
    "                                                                   SELECT\n",
    "                                                                         reviews.book_id,\n",
    "                                                                         reviews.review_id AS count_review      \n",
    "                                                                   FROM \n",
    "                                                                         reviews\n",
    "                                                                   GROUP BY \n",
    "                                                                         reviews.book_id,\n",
    "                                                                         count_review \n",
    "                                                                   ORDER BY \n",
    "                                                                         count_review DESC \n",
    "                                                                   \n",
    "                                                                    ) AS SQB3 ON SQB3.book_id = SQB2.book_id\n",
    "               \n",
    "               \n",
    "                                                             \n",
    "        GROUP BY                        \n",
    "                SQB.book_id,\n",
    "                title\n",
    "            \n",
    "                \n",
    "                \n",
    "        ORDER BY\n",
    "                count_review DESC,\n",
    "                rating_avg DESC\n",
    "                \n",
    "                \n",
    "        '''\n",
    "reviews_and_average_rating = pd.io.sql.read_sql(query_7, con = engine)\n",
    "reviews_and_average_rating"
   ]
  },
  {
   "cell_type": "markdown",
   "metadata": {},
   "source": [
    "Для каждой книги посчитали количество обзоров и среднюю оценку"
   ]
  },
  {
   "cell_type": "markdown",
   "metadata": {},
   "source": [
    "Интересно было бы узнать, какие книги являются топовыми с точки зрения максимума обзоров и наибольшего показателя средней оценки. Топ-5 книг (первые пять книг таблицы books)."
   ]
  },
  {
   "cell_type": "markdown",
   "metadata": {},
   "source": [
    "Топ-5 книг (на самом деле первые пять книг таблицы books) с наибольшими показателями средней оценки, и максимумом обзоров."
   ]
  },
  {
   "cell_type": "code",
   "execution_count": 15,
   "metadata": {},
   "outputs": [
    {
     "data": {
      "text/html": [
       "<div>\n",
       "<style scoped>\n",
       "    .dataframe tbody tr th:only-of-type {\n",
       "        vertical-align: middle;\n",
       "    }\n",
       "\n",
       "    .dataframe tbody tr th {\n",
       "        vertical-align: top;\n",
       "    }\n",
       "\n",
       "    .dataframe thead th {\n",
       "        text-align: right;\n",
       "    }\n",
       "</style>\n",
       "<table border=\"1\" class=\"dataframe\">\n",
       "  <thead>\n",
       "    <tr style=\"text-align: right;\">\n",
       "      <th></th>\n",
       "      <th>book_id</th>\n",
       "      <th>name_book</th>\n",
       "      <th>count_review</th>\n",
       "      <th>avg_rating</th>\n",
       "    </tr>\n",
       "  </thead>\n",
       "  <tbody>\n",
       "    <tr>\n",
       "      <th>0</th>\n",
       "      <td>17</td>\n",
       "      <td>A Dirty Job (Grim Reaper  #1)</td>\n",
       "      <td>4</td>\n",
       "      <td>5.0</td>\n",
       "    </tr>\n",
       "    <tr>\n",
       "      <th>1</th>\n",
       "      <td>444</td>\n",
       "      <td>Moneyball: The Art of Winning an Unfair Game</td>\n",
       "      <td>3</td>\n",
       "      <td>5.0</td>\n",
       "    </tr>\n",
       "    <tr>\n",
       "      <th>2</th>\n",
       "      <td>553</td>\n",
       "      <td>School's Out—Forever (Maximum Ride  #2)</td>\n",
       "      <td>3</td>\n",
       "      <td>5.0</td>\n",
       "    </tr>\n",
       "    <tr>\n",
       "      <th>3</th>\n",
       "      <td>57</td>\n",
       "      <td>Act of Treason (Mitch Rapp  #9)</td>\n",
       "      <td>2</td>\n",
       "      <td>5.0</td>\n",
       "    </tr>\n",
       "    <tr>\n",
       "      <th>4</th>\n",
       "      <td>20</td>\n",
       "      <td>A Fistful of Charms (The Hollows  #4)</td>\n",
       "      <td>2</td>\n",
       "      <td>5.0</td>\n",
       "    </tr>\n",
       "  </tbody>\n",
       "</table>\n",
       "</div>"
      ],
      "text/plain": [
       "   book_id                                     name_book  count_review  \\\n",
       "0       17                 A Dirty Job (Grim Reaper  #1)             4   \n",
       "1      444  Moneyball: The Art of Winning an Unfair Game             3   \n",
       "2      553       School's Out—Forever (Maximum Ride  #2)             3   \n",
       "3       57               Act of Treason (Mitch Rapp  #9)             2   \n",
       "4       20         A Fistful of Charms (The Hollows  #4)             2   \n",
       "\n",
       "   avg_rating  \n",
       "0         5.0  \n",
       "1         5.0  \n",
       "2         5.0  \n",
       "3         5.0  \n",
       "4         5.0  "
      ]
     },
     "execution_count": 15,
     "metadata": {},
     "output_type": "execute_result"
    }
   ],
   "source": [
    "query_8 = '''\n",
    "         SELECT\n",
    "               books.book_id,\n",
    "               books.title AS name_book,\n",
    "               COUNT(DISTINCT reviews.review_id) AS count_review,\n",
    "               AVG(ratings.rating) AS avg_rating\n",
    "         FROM  books\n",
    "               LEFT JOIN reviews ON reviews.book_id = books.book_id\n",
    "               LEFT JOIN ratings ON ratings.book_id = books.book_id      \n",
    "         GROUP BY\n",
    "               books.book_id\n",
    "         ORDER BY\n",
    "               avg_rating DESC,\n",
    "               count_review DESC\n",
    "         LIMIT 5      \n",
    "               \n",
    "        '''\n",
    "top_5_rating_review = pd.io.sql.read_sql(query_8, con = engine)\n",
    "top_5_rating_review"
   ]
  },
  {
   "cell_type": "markdown",
   "metadata": {},
   "source": [
    "- A Dirty Job (Grim Reaper #1) - Кристофер Мур \"Грязная работа\"\n",
    "- Moneyball: The Art of Winning an Unfair Game - Майкл Льюис \"Денежный шар\"\n",
    "- School's Out—Forever (Maximum Ride #2) - Джеймс Паттерсон \"Максимальная поездка: Школа закрыта Навсегда\"\n",
    "- Act of Treason (Mitch Rapp #9) - Винс Флинн \"Акт государственной измены\"\n",
    "- A Fistful of Charms (The Hollows #4) - Ким Харрисон \"Пригоршня прелестей\"\t"
   ]
  },
  {
   "cell_type": "markdown",
   "metadata": {},
   "source": [
    "<img src=https://kbimages1-a.akamaihd.net/af30029e-070d-4f4d-8d7c-d00b65459176/1200/1200/False/a-dirty-job-2.jpg>"
   ]
  },
  {
   "cell_type": "markdown",
   "metadata": {},
   "source": [
    "**Грязная работа**\n",
    "\n",
    "- Автор:\tКристофер Мур\n",
    "- Художник обложки:\tУильям Стейл\n",
    "- Страна:\tСША\n",
    "- Язык:\tАнглийский\n",
    "- Жанр:\tЮмор, комическая фантазия, детективная фантастика, приключенческая фантастика, абсурдистская фантастика, ужасы, городская фантазия\n",
    "\n",
    "\"Грязная работа\" - роман американского писателя Кристофера Мура, опубликованный в 2006 году. Отражая абсурдистские тенденции автора, содержание романа в значительной степени опирается на его собственный опыт в удовлетворении потребностей близких родственников и друзей на этапах умирания."
   ]
  },
  {
   "cell_type": "markdown",
   "metadata": {},
   "source": [
    "<img src=https://www.incomediary.com/wp-content/uploads/2012/01/moneyball.jpg>"
   ]
  },
  {
   "cell_type": "markdown",
   "metadata": {},
   "source": [
    "**Денежный шар**\n",
    "\n",
    "- Автор:\tМайкл Льюис\n",
    "- Страна:\tСША\n",
    "- Язык:\tАнглийский\n",
    "- Жанр:\tНехудожественная литература\n",
    "\n",
    "\"Moneyball: The Art of Winning an Unfair Game\"-это книга Майкла Льюиса, опубликованная в 2003 году, о бейсбольной команде Oakland Athletics и ее генеральном менеджере Билли Бине. Его фокус-аналитический, основанный на фактических данных, саберметрический подход команды к созданию конкурентоспособной бейсбольной команды, несмотря на небольшой бюджет Окленда. Фильм по книге Льюиса с Брэдом Питтом и Джоной Хилл в главных ролях вышел на экраны в 2011 году."
   ]
  },
  {
   "cell_type": "markdown",
   "metadata": {},
   "source": [
    "<img src=https://i.pinimg.com/originals/93/03/1c/93031cdc2352bea69da324f39877ed59.jpg>"
   ]
  },
  {
   "cell_type": "markdown",
   "metadata": {},
   "source": [
    "**Максимальная поездка: Школа закрыта Навсегда**\n",
    "\n",
    "- Автор:\tДжеймс Паттерсон\n",
    "- Художник обложки:\tДэвид Перри, Пит Тернер и Роб Мэтисон\n",
    "- Страна:\tСША\n",
    "- Язык:\tАнглийский\n",
    "- Жанр:\tМолодые взрослые, научная фантастика\n",
    "\n",
    "\"Maximum Ride: School's Out—Forever\"-вторая книга Джеймса Паттерсона из научно-фантастической приключенческой серии \"Максимальная поездка\", опубликованная издательством Литтл Браун. Книга была выпущена в США и Великобритании в мае 23, 2006.[2][3] Сериал рассказывает о \"Стае\", группе гибридов человека и птицы, скрывающихся от ученых, которые их создали. \"Стая\" состоит из 6 детей, обладающих различными способностями; Ангел может читать мысли, Надж может рассказать больше информации о любой вещи, если она может прикоснуться к ней, а Игги, пока он слеп, все еще может создавать самые сложные бомбы."
   ]
  },
  {
   "cell_type": "markdown",
   "metadata": {},
   "source": [
    "<img src=https://offtheshelf.com/app/uploads/2016/10/Act-of-Treason.jpg>"
   ]
  },
  {
   "cell_type": "markdown",
   "metadata": {},
   "source": [
    "**Акт государственной измены**\n",
    "\n",
    "- Автор: Винс Флинн\n",
    "- Страна: США\n",
    "- Язык: Английский\n",
    "- Жанр:\tПолитический триллер\n",
    "\n",
    "Митч Рэпп-вымышленный тайный агент ЦРУ по борьбе с терроризмом. Основное внимание Рэппа сосредоточено на предотвращении террористических нападений на Соединенные Штаты, и он представлен как агрессивный оперативник, готовый принять меры, которые являются более крайними, чем могут быть сочтены общепризнанными. Его постоянное недовольство процедурами и бюрократией является главной темой на протяжении всей серии."
   ]
  },
  {
   "cell_type": "markdown",
   "metadata": {},
   "source": [
    "<img src=https://c.booko.info/covers/3eeedefeb37ceca8/v/600.jpeg>"
   ]
  },
  {
   "cell_type": "markdown",
   "metadata": {},
   "source": [
    "**Пригоршня прелестей**\n",
    "\n",
    "- Автор: Ким Харрисон\n",
    "- Страна: США\n",
    "- Язык: Английский\n",
    "- Жанр: Городское фэнтези\n",
    "\n",
    "Злые ночные твари, которые бродят по Цинциннати, презирают ведьму и охотницу за головами Рэйчел Морган. Ее новая репутация в темных искусствах сводится к тому, что люди и нежить одинаково склоняют головы с намерением овладеть, уложить в постель и убить ее-не обязательно в таком порядке.\n",
    "\n",
    "Теперь смертный любовник, бросивший Рейчел, вернулся, преследуемый своим тайным прошлым. И есть те, кто жаждет того, чем владеет Ник, - дикие звери, готовые при необходимости уничтожить Лощины и всех, кто в них находится.\n",
    "\n",
    "Вынужденная держаться в тени или вечно страдать от гнева мстительного демона, Рейчел, тем не менее, должна действовать быстро. Ибо стая собирается впервые за тысячелетия, чтобы опустошать и править. И вдруг на карту поставлено нечто большее, чем душа Рейчел.\n",
    "\n"
   ]
  },
  {
   "cell_type": "markdown",
   "metadata": {},
   "source": [
    "---"
   ]
  },
  {
   "cell_type": "markdown",
   "metadata": {},
   "source": [
    "Занятная подборка. Для более пристального изучения этой тематики, видимо, не помешало бы узнать как и кем происходит присваивание рейтинга и в каких странах (стране?) происходит подсчёт обзоров. Посмотрим также без деталей на Топ-5 (или первых выведенных по наибольшим показателям по таблице) отдельно по максимальному количеству обзоров и самому высокому показателю среднего рейтинга. \n",
    "\n",
    "Обзоры:"
   ]
  },
  {
   "cell_type": "code",
   "execution_count": 16,
   "metadata": {},
   "outputs": [
    {
     "data": {
      "text/html": [
       "<div>\n",
       "<style scoped>\n",
       "    .dataframe tbody tr th:only-of-type {\n",
       "        vertical-align: middle;\n",
       "    }\n",
       "\n",
       "    .dataframe tbody tr th {\n",
       "        vertical-align: top;\n",
       "    }\n",
       "\n",
       "    .dataframe thead th {\n",
       "        text-align: right;\n",
       "    }\n",
       "</style>\n",
       "<table border=\"1\" class=\"dataframe\">\n",
       "  <thead>\n",
       "    <tr style=\"text-align: right;\">\n",
       "      <th></th>\n",
       "      <th>book_id</th>\n",
       "      <th>name_book</th>\n",
       "      <th>count_review</th>\n",
       "      <th>avg_rating</th>\n",
       "    </tr>\n",
       "  </thead>\n",
       "  <tbody>\n",
       "    <tr>\n",
       "      <th>0</th>\n",
       "      <td>948</td>\n",
       "      <td>Twilight (Twilight  #1)</td>\n",
       "      <td>7</td>\n",
       "      <td>3.662500</td>\n",
       "    </tr>\n",
       "    <tr>\n",
       "      <th>1</th>\n",
       "      <td>497</td>\n",
       "      <td>Outlander (Outlander  #1)</td>\n",
       "      <td>6</td>\n",
       "      <td>4.125000</td>\n",
       "    </tr>\n",
       "    <tr>\n",
       "      <th>2</th>\n",
       "      <td>207</td>\n",
       "      <td>Eat  Pray  Love</td>\n",
       "      <td>6</td>\n",
       "      <td>3.395833</td>\n",
       "    </tr>\n",
       "    <tr>\n",
       "      <th>3</th>\n",
       "      <td>299</td>\n",
       "      <td>Harry Potter and the Chamber of Secrets (Harry...</td>\n",
       "      <td>6</td>\n",
       "      <td>4.287500</td>\n",
       "    </tr>\n",
       "    <tr>\n",
       "      <th>4</th>\n",
       "      <td>302</td>\n",
       "      <td>Harry Potter and the Prisoner of Azkaban (Harr...</td>\n",
       "      <td>6</td>\n",
       "      <td>4.414634</td>\n",
       "    </tr>\n",
       "  </tbody>\n",
       "</table>\n",
       "</div>"
      ],
      "text/plain": [
       "   book_id                                          name_book  count_review  \\\n",
       "0      948                            Twilight (Twilight  #1)             7   \n",
       "1      497                          Outlander (Outlander  #1)             6   \n",
       "2      207                                    Eat  Pray  Love             6   \n",
       "3      299  Harry Potter and the Chamber of Secrets (Harry...             6   \n",
       "4      302  Harry Potter and the Prisoner of Azkaban (Harr...             6   \n",
       "\n",
       "   avg_rating  \n",
       "0    3.662500  \n",
       "1    4.125000  \n",
       "2    3.395833  \n",
       "3    4.287500  \n",
       "4    4.414634  "
      ]
     },
     "execution_count": 16,
     "metadata": {},
     "output_type": "execute_result"
    }
   ],
   "source": [
    "query_9 = '''\n",
    "         SELECT\n",
    "               books.book_id,\n",
    "               books.title AS name_book,\n",
    "               COUNT(DISTINCT reviews.review_id) AS count_review,\n",
    "               AVG(ratings.rating) AS avg_rating\n",
    "         FROM  books\n",
    "               LEFT JOIN reviews ON reviews.book_id = books.book_id\n",
    "               LEFT JOIN ratings ON ratings.book_id = books.book_id      \n",
    "         GROUP BY\n",
    "               books.book_id\n",
    "         ORDER BY\n",
    "               count_review DESC\n",
    "         LIMIT 5      \n",
    "               \n",
    "        '''\n",
    "top_5_review = pd.io.sql.read_sql(query_9, con = engine)\n",
    "top_5_review"
   ]
  },
  {
   "cell_type": "markdown",
   "metadata": {},
   "source": [
    "- Twilight (Twilight #1) - Стефани Майер \"Сумерки\";\n",
    "- Outlander (Outlander #1) - Гэблдон Диана \"Чужестранка\";\n",
    "- Eat Pray Love - Элизабет Гилберт \"Есть, молиться, любить\";\n",
    "- Harry Potter and the Chamber of Secrets - Джоан Роулинг \"Гарри Поттер и Тайная комната\";\n",
    "- Harry Potter and the Prisoner of Azkaban - Джоан Роулинг \"Гарри Поттер и узник Азкабана\".\n",
    "\n",
    "Обратим внимание на то, что каждое из произведений, попавших в список первых строк по максимальному количеству обзоров, обязательно имеет экранизацию. Что покажет нам рейтинг?\n",
    "\n",
    "Рейтинг:"
   ]
  },
  {
   "cell_type": "code",
   "execution_count": 17,
   "metadata": {},
   "outputs": [
    {
     "data": {
      "text/html": [
       "<div>\n",
       "<style scoped>\n",
       "    .dataframe tbody tr th:only-of-type {\n",
       "        vertical-align: middle;\n",
       "    }\n",
       "\n",
       "    .dataframe tbody tr th {\n",
       "        vertical-align: top;\n",
       "    }\n",
       "\n",
       "    .dataframe thead th {\n",
       "        text-align: right;\n",
       "    }\n",
       "</style>\n",
       "<table border=\"1\" class=\"dataframe\">\n",
       "  <thead>\n",
       "    <tr style=\"text-align: right;\">\n",
       "      <th></th>\n",
       "      <th>book_id</th>\n",
       "      <th>name_book</th>\n",
       "      <th>count_review</th>\n",
       "      <th>avg_rating</th>\n",
       "    </tr>\n",
       "  </thead>\n",
       "  <tbody>\n",
       "    <tr>\n",
       "      <th>0</th>\n",
       "      <td>55</td>\n",
       "      <td>A Woman of Substance (Emma Harte Saga #1)</td>\n",
       "      <td>2</td>\n",
       "      <td>5.0</td>\n",
       "    </tr>\n",
       "    <tr>\n",
       "      <th>1</th>\n",
       "      <td>57</td>\n",
       "      <td>Act of Treason (Mitch Rapp  #9)</td>\n",
       "      <td>2</td>\n",
       "      <td>5.0</td>\n",
       "    </tr>\n",
       "    <tr>\n",
       "      <th>2</th>\n",
       "      <td>17</td>\n",
       "      <td>A Dirty Job (Grim Reaper  #1)</td>\n",
       "      <td>4</td>\n",
       "      <td>5.0</td>\n",
       "    </tr>\n",
       "    <tr>\n",
       "      <th>3</th>\n",
       "      <td>20</td>\n",
       "      <td>A Fistful of Charms (The Hollows  #4)</td>\n",
       "      <td>2</td>\n",
       "      <td>5.0</td>\n",
       "    </tr>\n",
       "    <tr>\n",
       "      <th>4</th>\n",
       "      <td>62</td>\n",
       "      <td>Alas  Babylon</td>\n",
       "      <td>2</td>\n",
       "      <td>5.0</td>\n",
       "    </tr>\n",
       "  </tbody>\n",
       "</table>\n",
       "</div>"
      ],
      "text/plain": [
       "   book_id                                  name_book  count_review  \\\n",
       "0       55  A Woman of Substance (Emma Harte Saga #1)             2   \n",
       "1       57            Act of Treason (Mitch Rapp  #9)             2   \n",
       "2       17              A Dirty Job (Grim Reaper  #1)             4   \n",
       "3       20      A Fistful of Charms (The Hollows  #4)             2   \n",
       "4       62                              Alas  Babylon             2   \n",
       "\n",
       "   avg_rating  \n",
       "0         5.0  \n",
       "1         5.0  \n",
       "2         5.0  \n",
       "3         5.0  \n",
       "4         5.0  "
      ]
     },
     "execution_count": 17,
     "metadata": {},
     "output_type": "execute_result"
    }
   ],
   "source": [
    "query_10 = '''\n",
    "         SELECT\n",
    "               books.book_id,\n",
    "               books.title AS name_book,\n",
    "               COUNT(DISTINCT reviews.review_id) AS count_review,\n",
    "               AVG(ratings.rating) AS avg_rating\n",
    "         FROM  books\n",
    "               LEFT JOIN reviews ON reviews.book_id = books.book_id\n",
    "               LEFT JOIN ratings ON ratings.book_id = books.book_id      \n",
    "         GROUP BY\n",
    "               books.book_id\n",
    "         ORDER BY\n",
    "               avg_rating DESC\n",
    "         LIMIT 5      \n",
    "               \n",
    "        '''\n",
    "top_5_rating = pd.io.sql.read_sql(query_10, con = engine)\n",
    "top_5_rating"
   ]
  },
  {
   "cell_type": "markdown",
   "metadata": {},
   "source": [
    "- A Woman of Substance (Emma Harte Saga #1)\t- Барбара Брэдфорд \"Состоятельная женщина\";\n",
    "- Act of Treason (Mitch Rapp #9) - Винс Флинн \"Акт государственной измены\"\n",
    "- A Dirty Job (Grim Reaper #1) - Кристофер Мур \"Грязная работа\"\n",
    "- A Fistful of Charms (The Hollows #4) - Ким Харрисон \"Пригоршня прелестей\"\n",
    "- Alas Babylon\t- Пэт Франк \"Увы, Вавилон\"\n",
    "\n",
    "Обратим внимание на пересечение произведений по критерию самого высокого показателя среднего рейтинга и объединённого критерия - с наибольшими показателями средней оценки, и максимумом обзоров:\n",
    "- Act of Treason (Mitch Rapp #9) - Винс Флинн \"Акт государственной измены\"\n",
    "- A Dirty Job (Grim Reaper #1) - Кристофер Мур \"Грязная работа\"\n",
    "- A Fistful of Charms (The Hollows #4) - Ким Харрисон \"Пригоршня прелестей\""
   ]
  },
  {
   "cell_type": "markdown",
   "metadata": {},
   "source": [
    "[К содержанию](#content)"
   ]
  },
  {
   "cell_type": "markdown",
   "metadata": {},
   "source": [
    "### Определим издательство, которое выпустило наибольшее число книг толще 50 страниц — так мы исключим из анализа брошюры\n",
    "[](#sql5)\n",
    "<a id='sql5'></a>"
   ]
  },
  {
   "cell_type": "markdown",
   "metadata": {},
   "source": [
    "**Таблица `publishers`**\n",
    "\n",
    "Содержит данные об издательствах:\n",
    "\n",
    "- `publisher_id` — идентификатор издательства;\n",
    "- `publisher` — название издательства;\n"
   ]
  },
  {
   "cell_type": "code",
   "execution_count": 18,
   "metadata": {},
   "outputs": [
    {
     "data": {
      "text/html": [
       "<div>\n",
       "<style scoped>\n",
       "    .dataframe tbody tr th:only-of-type {\n",
       "        vertical-align: middle;\n",
       "    }\n",
       "\n",
       "    .dataframe tbody tr th {\n",
       "        vertical-align: top;\n",
       "    }\n",
       "\n",
       "    .dataframe thead th {\n",
       "        text-align: right;\n",
       "    }\n",
       "</style>\n",
       "<table border=\"1\" class=\"dataframe\">\n",
       "  <thead>\n",
       "    <tr style=\"text-align: right;\">\n",
       "      <th></th>\n",
       "      <th>publisher_id</th>\n",
       "      <th>publisher</th>\n",
       "    </tr>\n",
       "  </thead>\n",
       "  <tbody>\n",
       "    <tr>\n",
       "      <th>0</th>\n",
       "      <td>1</td>\n",
       "      <td>Ace</td>\n",
       "    </tr>\n",
       "    <tr>\n",
       "      <th>1</th>\n",
       "      <td>2</td>\n",
       "      <td>Ace Book</td>\n",
       "    </tr>\n",
       "    <tr>\n",
       "      <th>2</th>\n",
       "      <td>3</td>\n",
       "      <td>Ace Books</td>\n",
       "    </tr>\n",
       "    <tr>\n",
       "      <th>3</th>\n",
       "      <td>4</td>\n",
       "      <td>Ace Hardcover</td>\n",
       "    </tr>\n",
       "    <tr>\n",
       "      <th>4</th>\n",
       "      <td>5</td>\n",
       "      <td>Addison Wesley Publishing Company</td>\n",
       "    </tr>\n",
       "  </tbody>\n",
       "</table>\n",
       "</div>"
      ],
      "text/plain": [
       "   publisher_id                          publisher\n",
       "0             1                                Ace\n",
       "1             2                           Ace Book\n",
       "2             3                          Ace Books\n",
       "3             4                      Ace Hardcover\n",
       "4             5  Addison Wesley Publishing Company"
      ]
     },
     "execution_count": 18,
     "metadata": {},
     "output_type": "execute_result"
    }
   ],
   "source": [
    "publishers"
   ]
  },
  {
   "cell_type": "code",
   "execution_count": 19,
   "metadata": {},
   "outputs": [
    {
     "data": {
      "text/html": [
       "<div>\n",
       "<style scoped>\n",
       "    .dataframe tbody tr th:only-of-type {\n",
       "        vertical-align: middle;\n",
       "    }\n",
       "\n",
       "    .dataframe tbody tr th {\n",
       "        vertical-align: top;\n",
       "    }\n",
       "\n",
       "    .dataframe thead th {\n",
       "        text-align: right;\n",
       "    }\n",
       "</style>\n",
       "<table border=\"1\" class=\"dataframe\">\n",
       "  <thead>\n",
       "    <tr style=\"text-align: right;\">\n",
       "      <th></th>\n",
       "      <th>publisher_id</th>\n",
       "      <th>publisher_name</th>\n",
       "      <th>count_book</th>\n",
       "    </tr>\n",
       "  </thead>\n",
       "  <tbody>\n",
       "    <tr>\n",
       "      <th>0</th>\n",
       "      <td>212</td>\n",
       "      <td>Penguin Books</td>\n",
       "      <td>42</td>\n",
       "    </tr>\n",
       "  </tbody>\n",
       "</table>\n",
       "</div>"
      ],
      "text/plain": [
       "   publisher_id publisher_name  count_book\n",
       "0           212  Penguin Books          42"
      ]
     },
     "execution_count": 19,
     "metadata": {},
     "output_type": "execute_result"
    }
   ],
   "source": [
    "query_11 = '''\n",
    "         SELECT\n",
    "               publishers.publisher_id,\n",
    "               publishers.publisher AS publisher_name,\n",
    "               COUNT(books.book_id) AS count_book\n",
    "               \n",
    "         FROM  books\n",
    "               LEFT JOIN publishers ON publishers.publisher_id = books.publisher_id\n",
    "         WHERE \n",
    "               books.num_pages > 50\n",
    "         GROUP BY\n",
    "               publisher_name,\n",
    "               publishers.publisher_id\n",
    "         ORDER BY \n",
    "               count_book DESC\n",
    "         LIMIT 1;      \n",
    "        '''\n",
    "publishing_house= pd.io.sql.read_sql(query_11, con = engine)\n",
    "publishing_house"
   ]
  },
  {
   "cell_type": "markdown",
   "metadata": {},
   "source": [
    "<img src=https://i.pinimg.com/originals/34/de/89/34de89c42d2ec9b7cf1a8fb9aff8daa4.png>"
   ]
  },
  {
   "cell_type": "markdown",
   "metadata": {},
   "source": [
    "В таблице publishers представлено максимальное количество изданий издательства Penguin Books - 42 произведения толще 50 страниц.\n",
    "\n",
    "Penguin Books (рус. Пе́нгуин букс или Пингвин букс) — британское издательство, основанное в 1935 году в Лондоне сэром Алленом Лейном и его братьями Ричардом и Джоном. Главной заслугой издательства считают демократизацию книжного рынка, превратившую книгу из предмета роскоши в удовольствие, доступное массам."
   ]
  },
  {
   "cell_type": "markdown",
   "metadata": {},
   "source": [
    "[К содержанию](#content)"
   ]
  },
  {
   "cell_type": "markdown",
   "metadata": {},
   "source": [
    "### Определим автора с самой высокой средней оценкой книг — будем учитывать только книги с 50 и более оценками.\n",
    "[](#sql6)\n",
    "<a id='sql6'></a>"
   ]
  },
  {
   "cell_type": "markdown",
   "metadata": {},
   "source": [
    "**Таблица `authors`**\n",
    "\n",
    "Содержит данные об авторах:\n",
    "\n",
    "- `author_id` — идентификатор автора;\n",
    "- `author` — имя автора."
   ]
  },
  {
   "cell_type": "code",
   "execution_count": 20,
   "metadata": {},
   "outputs": [
    {
     "data": {
      "text/html": [
       "<div>\n",
       "<style scoped>\n",
       "    .dataframe tbody tr th:only-of-type {\n",
       "        vertical-align: middle;\n",
       "    }\n",
       "\n",
       "    .dataframe tbody tr th {\n",
       "        vertical-align: top;\n",
       "    }\n",
       "\n",
       "    .dataframe thead th {\n",
       "        text-align: right;\n",
       "    }\n",
       "</style>\n",
       "<table border=\"1\" class=\"dataframe\">\n",
       "  <thead>\n",
       "    <tr style=\"text-align: right;\">\n",
       "      <th></th>\n",
       "      <th>book_id</th>\n",
       "      <th>author_id</th>\n",
       "      <th>title</th>\n",
       "      <th>num_pages</th>\n",
       "      <th>publication_date</th>\n",
       "      <th>publisher_id</th>\n",
       "    </tr>\n",
       "  </thead>\n",
       "  <tbody>\n",
       "    <tr>\n",
       "      <th>0</th>\n",
       "      <td>1</td>\n",
       "      <td>546</td>\n",
       "      <td>'Salem's Lot</td>\n",
       "      <td>594</td>\n",
       "      <td>2005-11-01</td>\n",
       "      <td>93</td>\n",
       "    </tr>\n",
       "    <tr>\n",
       "      <th>1</th>\n",
       "      <td>2</td>\n",
       "      <td>465</td>\n",
       "      <td>1 000 Places to See Before You Die</td>\n",
       "      <td>992</td>\n",
       "      <td>2003-05-22</td>\n",
       "      <td>336</td>\n",
       "    </tr>\n",
       "    <tr>\n",
       "      <th>2</th>\n",
       "      <td>3</td>\n",
       "      <td>407</td>\n",
       "      <td>13 Little Blue Envelopes (Little Blue Envelope...</td>\n",
       "      <td>322</td>\n",
       "      <td>2010-12-21</td>\n",
       "      <td>135</td>\n",
       "    </tr>\n",
       "    <tr>\n",
       "      <th>3</th>\n",
       "      <td>4</td>\n",
       "      <td>82</td>\n",
       "      <td>1491: New Revelations of the Americas Before C...</td>\n",
       "      <td>541</td>\n",
       "      <td>2006-10-10</td>\n",
       "      <td>309</td>\n",
       "    </tr>\n",
       "    <tr>\n",
       "      <th>4</th>\n",
       "      <td>5</td>\n",
       "      <td>125</td>\n",
       "      <td>1776</td>\n",
       "      <td>386</td>\n",
       "      <td>2006-07-04</td>\n",
       "      <td>268</td>\n",
       "    </tr>\n",
       "  </tbody>\n",
       "</table>\n",
       "</div>"
      ],
      "text/plain": [
       "   book_id  author_id                                              title  \\\n",
       "0        1        546                                       'Salem's Lot   \n",
       "1        2        465                 1 000 Places to See Before You Die   \n",
       "2        3        407  13 Little Blue Envelopes (Little Blue Envelope...   \n",
       "3        4         82  1491: New Revelations of the Americas Before C...   \n",
       "4        5        125                                               1776   \n",
       "\n",
       "   num_pages publication_date  publisher_id  \n",
       "0        594       2005-11-01            93  \n",
       "1        992       2003-05-22           336  \n",
       "2        322       2010-12-21           135  \n",
       "3        541       2006-10-10           309  \n",
       "4        386       2006-07-04           268  "
      ]
     },
     "execution_count": 20,
     "metadata": {},
     "output_type": "execute_result"
    }
   ],
   "source": [
    "books"
   ]
  },
  {
   "cell_type": "code",
   "execution_count": 21,
   "metadata": {},
   "outputs": [
    {
     "data": {
      "text/html": [
       "<div>\n",
       "<style scoped>\n",
       "    .dataframe tbody tr th:only-of-type {\n",
       "        vertical-align: middle;\n",
       "    }\n",
       "\n",
       "    .dataframe tbody tr th {\n",
       "        vertical-align: top;\n",
       "    }\n",
       "\n",
       "    .dataframe thead th {\n",
       "        text-align: right;\n",
       "    }\n",
       "</style>\n",
       "<table border=\"1\" class=\"dataframe\">\n",
       "  <thead>\n",
       "    <tr style=\"text-align: right;\">\n",
       "      <th></th>\n",
       "      <th>rating_id</th>\n",
       "      <th>book_id</th>\n",
       "      <th>username</th>\n",
       "      <th>rating</th>\n",
       "    </tr>\n",
       "  </thead>\n",
       "  <tbody>\n",
       "    <tr>\n",
       "      <th>0</th>\n",
       "      <td>1</td>\n",
       "      <td>1</td>\n",
       "      <td>ryanfranco</td>\n",
       "      <td>4</td>\n",
       "    </tr>\n",
       "    <tr>\n",
       "      <th>1</th>\n",
       "      <td>2</td>\n",
       "      <td>1</td>\n",
       "      <td>grantpatricia</td>\n",
       "      <td>2</td>\n",
       "    </tr>\n",
       "    <tr>\n",
       "      <th>2</th>\n",
       "      <td>3</td>\n",
       "      <td>1</td>\n",
       "      <td>brandtandrea</td>\n",
       "      <td>5</td>\n",
       "    </tr>\n",
       "    <tr>\n",
       "      <th>3</th>\n",
       "      <td>4</td>\n",
       "      <td>2</td>\n",
       "      <td>lorichen</td>\n",
       "      <td>3</td>\n",
       "    </tr>\n",
       "    <tr>\n",
       "      <th>4</th>\n",
       "      <td>5</td>\n",
       "      <td>2</td>\n",
       "      <td>mariokeller</td>\n",
       "      <td>2</td>\n",
       "    </tr>\n",
       "  </tbody>\n",
       "</table>\n",
       "</div>"
      ],
      "text/plain": [
       "   rating_id  book_id       username  rating\n",
       "0          1        1     ryanfranco       4\n",
       "1          2        1  grantpatricia       2\n",
       "2          3        1   brandtandrea       5\n",
       "3          4        2       lorichen       3\n",
       "4          5        2    mariokeller       2"
      ]
     },
     "execution_count": 21,
     "metadata": {},
     "output_type": "execute_result"
    }
   ],
   "source": [
    "ratings"
   ]
  },
  {
   "cell_type": "code",
   "execution_count": 22,
   "metadata": {},
   "outputs": [
    {
     "data": {
      "text/html": [
       "<div>\n",
       "<style scoped>\n",
       "    .dataframe tbody tr th:only-of-type {\n",
       "        vertical-align: middle;\n",
       "    }\n",
       "\n",
       "    .dataframe tbody tr th {\n",
       "        vertical-align: top;\n",
       "    }\n",
       "\n",
       "    .dataframe thead th {\n",
       "        text-align: right;\n",
       "    }\n",
       "</style>\n",
       "<table border=\"1\" class=\"dataframe\">\n",
       "  <thead>\n",
       "    <tr style=\"text-align: right;\">\n",
       "      <th></th>\n",
       "      <th>author_id</th>\n",
       "      <th>author</th>\n",
       "    </tr>\n",
       "  </thead>\n",
       "  <tbody>\n",
       "    <tr>\n",
       "      <th>0</th>\n",
       "      <td>1</td>\n",
       "      <td>A.S. Byatt</td>\n",
       "    </tr>\n",
       "    <tr>\n",
       "      <th>1</th>\n",
       "      <td>2</td>\n",
       "      <td>Aesop/Laura Harris/Laura Gibbs</td>\n",
       "    </tr>\n",
       "    <tr>\n",
       "      <th>2</th>\n",
       "      <td>3</td>\n",
       "      <td>Agatha Christie</td>\n",
       "    </tr>\n",
       "    <tr>\n",
       "      <th>3</th>\n",
       "      <td>4</td>\n",
       "      <td>Alan Brennert</td>\n",
       "    </tr>\n",
       "    <tr>\n",
       "      <th>4</th>\n",
       "      <td>5</td>\n",
       "      <td>Alan Moore/David   Lloyd</td>\n",
       "    </tr>\n",
       "  </tbody>\n",
       "</table>\n",
       "</div>"
      ],
      "text/plain": [
       "   author_id                          author\n",
       "0          1                      A.S. Byatt\n",
       "1          2  Aesop/Laura Harris/Laura Gibbs\n",
       "2          3                 Agatha Christie\n",
       "3          4                   Alan Brennert\n",
       "4          5        Alan Moore/David   Lloyd"
      ]
     },
     "execution_count": 22,
     "metadata": {},
     "output_type": "execute_result"
    }
   ],
   "source": [
    "authors"
   ]
  },
  {
   "cell_type": "code",
   "execution_count": 23,
   "metadata": {},
   "outputs": [
    {
     "data": {
      "text/html": [
       "<div>\n",
       "<style scoped>\n",
       "    .dataframe tbody tr th:only-of-type {\n",
       "        vertical-align: middle;\n",
       "    }\n",
       "\n",
       "    .dataframe tbody tr th {\n",
       "        vertical-align: top;\n",
       "    }\n",
       "\n",
       "    .dataframe thead th {\n",
       "        text-align: right;\n",
       "    }\n",
       "</style>\n",
       "<table border=\"1\" class=\"dataframe\">\n",
       "  <thead>\n",
       "    <tr style=\"text-align: right;\">\n",
       "      <th></th>\n",
       "      <th>author</th>\n",
       "      <th>high_avg_rating</th>\n",
       "    </tr>\n",
       "  </thead>\n",
       "  <tbody>\n",
       "    <tr>\n",
       "      <th>0</th>\n",
       "      <td>J.K. Rowling/Mary GrandPré</td>\n",
       "      <td>4.283844</td>\n",
       "    </tr>\n",
       "    <tr>\n",
       "      <th>1</th>\n",
       "      <td>Markus Zusak/Cao Xuân Việt Khương</td>\n",
       "      <td>4.264151</td>\n",
       "    </tr>\n",
       "    <tr>\n",
       "      <th>2</th>\n",
       "      <td>J.R.R. Tolkien</td>\n",
       "      <td>4.258446</td>\n",
       "    </tr>\n",
       "    <tr>\n",
       "      <th>3</th>\n",
       "      <td>Louisa May Alcott</td>\n",
       "      <td>4.192308</td>\n",
       "    </tr>\n",
       "    <tr>\n",
       "      <th>4</th>\n",
       "      <td>Rick Riordan</td>\n",
       "      <td>4.080645</td>\n",
       "    </tr>\n",
       "    <tr>\n",
       "      <th>5</th>\n",
       "      <td>William Golding</td>\n",
       "      <td>3.901408</td>\n",
       "    </tr>\n",
       "    <tr>\n",
       "      <th>6</th>\n",
       "      <td>J.D. Salinger</td>\n",
       "      <td>3.825581</td>\n",
       "    </tr>\n",
       "    <tr>\n",
       "      <th>7</th>\n",
       "      <td>Paulo Coelho/Alan R. Clarke/Özdemir İnce</td>\n",
       "      <td>3.789474</td>\n",
       "    </tr>\n",
       "    <tr>\n",
       "      <th>8</th>\n",
       "      <td>William Shakespeare/Paul Werstine/Barbara A. M...</td>\n",
       "      <td>3.787879</td>\n",
       "    </tr>\n",
       "    <tr>\n",
       "      <th>9</th>\n",
       "      <td>Dan Brown</td>\n",
       "      <td>3.754540</td>\n",
       "    </tr>\n",
       "    <tr>\n",
       "      <th>10</th>\n",
       "      <td>Lois Lowry</td>\n",
       "      <td>3.750000</td>\n",
       "    </tr>\n",
       "    <tr>\n",
       "      <th>11</th>\n",
       "      <td>George Orwell/Boris Grabnar/Peter Škerl</td>\n",
       "      <td>3.729730</td>\n",
       "    </tr>\n",
       "    <tr>\n",
       "      <th>12</th>\n",
       "      <td>Stephenie Meyer</td>\n",
       "      <td>3.662500</td>\n",
       "    </tr>\n",
       "    <tr>\n",
       "      <th>13</th>\n",
       "      <td>John Steinbeck</td>\n",
       "      <td>3.622951</td>\n",
       "    </tr>\n",
       "  </tbody>\n",
       "</table>\n",
       "</div>"
      ],
      "text/plain": [
       "                                               author  high_avg_rating\n",
       "0                          J.K. Rowling/Mary GrandPré         4.283844\n",
       "1                   Markus Zusak/Cao Xuân Việt Khương         4.264151\n",
       "2                                      J.R.R. Tolkien         4.258446\n",
       "3                                   Louisa May Alcott         4.192308\n",
       "4                                        Rick Riordan         4.080645\n",
       "5                                     William Golding         3.901408\n",
       "6                                       J.D. Salinger         3.825581\n",
       "7            Paulo Coelho/Alan R. Clarke/Özdemir İnce         3.789474\n",
       "8   William Shakespeare/Paul Werstine/Barbara A. M...         3.787879\n",
       "9                                           Dan Brown         3.754540\n",
       "10                                         Lois Lowry         3.750000\n",
       "11            George Orwell/Boris Grabnar/Peter Škerl         3.729730\n",
       "12                                    Stephenie Meyer         3.662500\n",
       "13                                     John Steinbeck         3.622951"
      ]
     },
     "execution_count": 23,
     "metadata": {},
     "output_type": "execute_result"
    }
   ],
   "source": [
    "query_12 =  '''\n",
    "          SELECT\n",
    "              author,\n",
    "              AVG(sub.avg_rating) AS high_avg_rating\n",
    "          FROM\n",
    "              (SELECT\n",
    "                  author,\n",
    "                  books.book_id,\n",
    "                  AVG(rating) AS avg_rating\n",
    "              FROM \n",
    "                  authors\n",
    "              LEFT JOIN books ON books.author_id = authors.author_id\n",
    "              LEFT JOIN ratings ON ratings.book_id = books.book_id\n",
    "              GROUP BY\n",
    "                  author,\n",
    "                  books.book_id\n",
    "              HAVING\n",
    "                  COUNT(rating) > 50) AS sub\n",
    "          GROUP BY\n",
    "              author\n",
    "          ORDER BY\n",
    "              high_avg_rating DESC\n",
    "        '''\n",
    "\n",
    "author_with_the_highest_rating = pd.io.sql.read_sql(query_12, con = engine)\n",
    "author_with_the_highest_rating"
   ]
  },
  {
   "cell_type": "markdown",
   "metadata": {},
   "source": [
    "Автор с самой высокой средней оценкой книг (с 50 и более оценками) - Джоан Роулинг - кто бы сомневался. Посоперничать в популярности с ней мог бы, наверное, только Стивен Кинг."
   ]
  },
  {
   "cell_type": "markdown",
   "metadata": {},
   "source": [
    "<img src=https://businessman.ru/static/img/n/9/6/4/1/3/3/i/964133.jpg>"
   ]
  },
  {
   "cell_type": "markdown",
   "metadata": {},
   "source": [
    "**Джоан Роулинг**\n",
    "\n",
    "Джоан Роулинг CH, OBE, HonFRSE, FRCPE, FRSL (/ˈroʊlɪŋ/ ROH-ling;[1] родилась 31 июля 1965 года), более известная под псевдонимом Джоан Роулинг, - британская писательница, филантроп, кинопродюсер, телевизионный продюсер и сценарист. Она наиболее известна тем, что написала серию фэнтези о Гарри Поттере, которая получила множество наград и разошлась тиражом более 500 миллионов экземпляров[2][3], став самой продаваемой книжной серией в истории[4]. Книги легли в основу популярного киносериала, над которым Роулинг получила общее одобрение по сценариям[5] и была продюсером финальных фильмов[6]. Она также пишет детективы. под псевдонимом Роберт Гэлбрейт."
   ]
  },
  {
   "cell_type": "markdown",
   "metadata": {},
   "source": [
    "Посмотрим на фамилии других авторов с высокой средней оценкой книг (с учётом 50 или более оценок):"
   ]
  },
  {
   "cell_type": "code",
   "execution_count": 24,
   "metadata": {},
   "outputs": [
    {
     "data": {
      "text/html": [
       "<div>\n",
       "<style scoped>\n",
       "    .dataframe tbody tr th:only-of-type {\n",
       "        vertical-align: middle;\n",
       "    }\n",
       "\n",
       "    .dataframe tbody tr th {\n",
       "        vertical-align: top;\n",
       "    }\n",
       "\n",
       "    .dataframe thead th {\n",
       "        text-align: right;\n",
       "    }\n",
       "</style>\n",
       "<table border=\"1\" class=\"dataframe\">\n",
       "  <thead>\n",
       "    <tr style=\"text-align: right;\">\n",
       "      <th></th>\n",
       "      <th>author_id</th>\n",
       "      <th>authors_name</th>\n",
       "      <th>avg_rating</th>\n",
       "    </tr>\n",
       "  </thead>\n",
       "  <tbody>\n",
       "    <tr>\n",
       "      <th>0</th>\n",
       "      <td>236</td>\n",
       "      <td>J.K. Rowling/Mary GrandPré</td>\n",
       "      <td>4.288462</td>\n",
       "    </tr>\n",
       "    <tr>\n",
       "      <th>1</th>\n",
       "      <td>3</td>\n",
       "      <td>Agatha Christie</td>\n",
       "      <td>4.283019</td>\n",
       "    </tr>\n",
       "    <tr>\n",
       "      <th>2</th>\n",
       "      <td>402</td>\n",
       "      <td>Markus Zusak/Cao Xuân Việt Khương</td>\n",
       "      <td>4.264151</td>\n",
       "    </tr>\n",
       "    <tr>\n",
       "      <th>3</th>\n",
       "      <td>240</td>\n",
       "      <td>J.R.R. Tolkien</td>\n",
       "      <td>4.240964</td>\n",
       "    </tr>\n",
       "    <tr>\n",
       "      <th>4</th>\n",
       "      <td>499</td>\n",
       "      <td>Roald Dahl/Quentin Blake</td>\n",
       "      <td>4.209677</td>\n",
       "    </tr>\n",
       "    <tr>\n",
       "      <th>5</th>\n",
       "      <td>376</td>\n",
       "      <td>Louisa May Alcott</td>\n",
       "      <td>4.203704</td>\n",
       "    </tr>\n",
       "    <tr>\n",
       "      <th>6</th>\n",
       "      <td>498</td>\n",
       "      <td>Rick Riordan</td>\n",
       "      <td>4.130952</td>\n",
       "    </tr>\n",
       "    <tr>\n",
       "      <th>7</th>\n",
       "      <td>39</td>\n",
       "      <td>Arthur Golden</td>\n",
       "      <td>4.107143</td>\n",
       "    </tr>\n",
       "    <tr>\n",
       "      <th>8</th>\n",
       "      <td>542</td>\n",
       "      <td>Stephen King</td>\n",
       "      <td>4.009434</td>\n",
       "    </tr>\n",
       "    <tr>\n",
       "      <th>9</th>\n",
       "      <td>302</td>\n",
       "      <td>John Grisham</td>\n",
       "      <td>3.971429</td>\n",
       "    </tr>\n",
       "    <tr>\n",
       "      <th>10</th>\n",
       "      <td>621</td>\n",
       "      <td>William Golding</td>\n",
       "      <td>3.901408</td>\n",
       "    </tr>\n",
       "    <tr>\n",
       "      <th>11</th>\n",
       "      <td>445</td>\n",
       "      <td>Nicholas Sparks</td>\n",
       "      <td>3.882883</td>\n",
       "    </tr>\n",
       "    <tr>\n",
       "      <th>12</th>\n",
       "      <td>291</td>\n",
       "      <td>Jodi Picoult</td>\n",
       "      <td>3.881579</td>\n",
       "    </tr>\n",
       "    <tr>\n",
       "      <th>13</th>\n",
       "      <td>536</td>\n",
       "      <td>Sophie Kinsella</td>\n",
       "      <td>3.877193</td>\n",
       "    </tr>\n",
       "    <tr>\n",
       "      <th>14</th>\n",
       "      <td>257</td>\n",
       "      <td>James Patterson</td>\n",
       "      <td>3.859375</td>\n",
       "    </tr>\n",
       "    <tr>\n",
       "      <th>15</th>\n",
       "      <td>235</td>\n",
       "      <td>J.D. Salinger</td>\n",
       "      <td>3.846939</td>\n",
       "    </tr>\n",
       "    <tr>\n",
       "      <th>16</th>\n",
       "      <td>469</td>\n",
       "      <td>Paulo Coelho/Alan R. Clarke/Özdemir İnce</td>\n",
       "      <td>3.789474</td>\n",
       "    </tr>\n",
       "    <tr>\n",
       "      <th>17</th>\n",
       "      <td>630</td>\n",
       "      <td>William Shakespeare/Paul Werstine/Barbara A. M...</td>\n",
       "      <td>3.787879</td>\n",
       "    </tr>\n",
       "    <tr>\n",
       "      <th>18</th>\n",
       "      <td>106</td>\n",
       "      <td>Dan Brown</td>\n",
       "      <td>3.741259</td>\n",
       "    </tr>\n",
       "    <tr>\n",
       "      <th>19</th>\n",
       "      <td>372</td>\n",
       "      <td>Lois Lowry</td>\n",
       "      <td>3.738462</td>\n",
       "    </tr>\n",
       "    <tr>\n",
       "      <th>20</th>\n",
       "      <td>195</td>\n",
       "      <td>George Orwell/Boris Grabnar/Peter Škerl</td>\n",
       "      <td>3.729730</td>\n",
       "    </tr>\n",
       "    <tr>\n",
       "      <th>21</th>\n",
       "      <td>554</td>\n",
       "      <td>Stephenie Meyer</td>\n",
       "      <td>3.662500</td>\n",
       "    </tr>\n",
       "    <tr>\n",
       "      <th>22</th>\n",
       "      <td>311</td>\n",
       "      <td>John Steinbeck</td>\n",
       "      <td>3.643836</td>\n",
       "    </tr>\n",
       "  </tbody>\n",
       "</table>\n",
       "</div>"
      ],
      "text/plain": [
       "    author_id                                       authors_name  avg_rating\n",
       "0         236                         J.K. Rowling/Mary GrandPré    4.288462\n",
       "1           3                                    Agatha Christie    4.283019\n",
       "2         402                  Markus Zusak/Cao Xuân Việt Khương    4.264151\n",
       "3         240                                     J.R.R. Tolkien    4.240964\n",
       "4         499                           Roald Dahl/Quentin Blake    4.209677\n",
       "5         376                                  Louisa May Alcott    4.203704\n",
       "6         498                                       Rick Riordan    4.130952\n",
       "7          39                                      Arthur Golden    4.107143\n",
       "8         542                                       Stephen King    4.009434\n",
       "9         302                                       John Grisham    3.971429\n",
       "10        621                                    William Golding    3.901408\n",
       "11        445                                    Nicholas Sparks    3.882883\n",
       "12        291                                       Jodi Picoult    3.881579\n",
       "13        536                                    Sophie Kinsella    3.877193\n",
       "14        257                                    James Patterson    3.859375\n",
       "15        235                                      J.D. Salinger    3.846939\n",
       "16        469           Paulo Coelho/Alan R. Clarke/Özdemir İnce    3.789474\n",
       "17        630  William Shakespeare/Paul Werstine/Barbara A. M...    3.787879\n",
       "18        106                                          Dan Brown    3.741259\n",
       "19        372                                         Lois Lowry    3.738462\n",
       "20        195            George Orwell/Boris Grabnar/Peter Škerl    3.729730\n",
       "21        554                                    Stephenie Meyer    3.662500\n",
       "22        311                                     John Steinbeck    3.643836"
      ]
     },
     "execution_count": 24,
     "metadata": {},
     "output_type": "execute_result"
    }
   ],
   "source": [
    "query_13 = '''\n",
    "         SELECT\n",
    "               authors.author_id,\n",
    "               authors.author AS authors_name,\n",
    "               AVG(ratings.rating) AS avg_rating\n",
    "\n",
    "         FROM  books\n",
    "               LEFT JOIN authors ON authors.author_id = books.author_id\n",
    "               LEFT JOIN ratings ON ratings.book_id = books.book_id\n",
    "         GROUP BY\n",
    "               authors_name,\n",
    "               authors.author_id\n",
    "         HAVING\n",
    "               COUNT(books.book_id) > 50\n",
    "         ORDER BY \n",
    "               avg_rating DESC\n",
    "        '''\n",
    "authors_with_the_highest_rating = pd.io.sql.read_sql(query_13, con = engine)\n",
    "authors_with_the_highest_rating"
   ]
  },
  {
   "cell_type": "markdown",
   "metadata": {},
   "source": [
    "1. Джоан Роулинг - Британская писательница\n",
    "2. Агата Кристи -  Британская писательница\n",
    "3. Маркус Зузак - Австралийский писатель\n",
    "4. Джон Рональд Руэл Толкин - Британский писатель\n",
    "5. Роальд Даль/Квентин Блейк - Британский писатель/Британский карикатурист\n",
    "6. Луиза Мэй Олкотт - Американская писательница\n",
    "7. Рик Риордан - Американский писатель\n",
    "8. Артур Голден - Американский писатель\n",
    "9. Стивен Кинг - Американский писатель\n",
    "10. Джон Гришэм - Американский писатель\n",
    "11. Уильям Голдинг - Британский писатель\n",
    "12. Николас Спаркс - Американский писатель\n",
    "13. Джоди Пиколт - Американская писательница\n",
    "14. Софи Кинселла - Британская писательница\n",
    "15. Джеймс Паттерсон - Американский писатель\n",
    "16. Джером Дэвид Сэлинджер - Американский писатель\n",
    "17. Пауло Коэльо/Кларк Ричард Алан/Оздемир Инс - Бразильский писатель/Американский публицист/Турецкий поэт\n",
    "18. Уильям Шекспир/Пол Верстайн/Барбара А. Моуэт - Британский поэт/Редактор/Редактор\n",
    "19. Дэн Браун - Американский писатель\n",
    "20. Лоис Лоури - Американская писательница\n",
    "21. Джордж Оруэлл/Борис Грабнар/Питер Скерл - Британский писатель/Переводчик/Шведский сценарист\n",
    "22. Стефани Майер - Американская писательница\n",
    "23. Джон Стейнбек - Американский писатель"
   ]
  },
  {
   "cell_type": "markdown",
   "metadata": {},
   "source": [
    "Таковых нашлось 23 автора. И Стивен Кинг занимает отнюдь не второе место после Роулинг.\n",
    "\n",
    "Стоит отметить следующее наблюдение - за исключением Пауло Коэльо (Бразильский писатель), Оздемир Инс (Турецкий поэт) и Питер Скерл (Шведский сценарист), все остальные представленные авторы являются представителями англоязычных стран. \n",
    "\n",
    "Вспомним условие поставленной задачи:\n",
    "\n",
    "Наша компания решила быть на волне и купила крупный сервис для чтения книг по подписке. Наша первая задача как аналитика — проанализировать базу данных. В ней — информация о книгах, издательствах, авторах, а также пользовательские обзоры книг. Эти данные помогут сформулировать ценностное предложение для нового продукта.\n",
    "\n",
    "Ни в коей мере не умаляя заслуги приведённых авторов и, более того, признавая несомненную гениальность некоторых их них, отметим всё же, что отсутствие европейских, латиноамериканских, российских и прочих авторов, может создать однобокость, на которую российские читатели по подписке не применут обратить внимание. Согласно вышеупомянутому наблюдению, в российской читательской среде данная база данных может иметь не столь высокий успех, как в англоязычных странах, где она, вероятно, и была приобретена."
   ]
  },
  {
   "cell_type": "markdown",
   "metadata": {},
   "source": [
    "[К содержанию](#content)"
   ]
  },
  {
   "cell_type": "markdown",
   "metadata": {},
   "source": [
    "### Посчитаем среднее количество обзоров от пользователей, которые поставили больше 50 оценок\n",
    "[](#sql7)\n",
    "<a id='sql7'></a>"
   ]
  },
  {
   "cell_type": "code",
   "execution_count": 25,
   "metadata": {},
   "outputs": [
    {
     "data": {
      "text/html": [
       "<div>\n",
       "<style scoped>\n",
       "    .dataframe tbody tr th:only-of-type {\n",
       "        vertical-align: middle;\n",
       "    }\n",
       "\n",
       "    .dataframe tbody tr th {\n",
       "        vertical-align: top;\n",
       "    }\n",
       "\n",
       "    .dataframe thead th {\n",
       "        text-align: right;\n",
       "    }\n",
       "</style>\n",
       "<table border=\"1\" class=\"dataframe\">\n",
       "  <thead>\n",
       "    <tr style=\"text-align: right;\">\n",
       "      <th></th>\n",
       "      <th>avg_review_cnt</th>\n",
       "    </tr>\n",
       "  </thead>\n",
       "  <tbody>\n",
       "    <tr>\n",
       "      <th>0</th>\n",
       "      <td>24.333333</td>\n",
       "    </tr>\n",
       "  </tbody>\n",
       "</table>\n",
       "</div>"
      ],
      "text/plain": [
       "   avg_review_cnt\n",
       "0       24.333333"
      ]
     },
     "execution_count": 25,
     "metadata": {},
     "output_type": "execute_result"
    }
   ],
   "source": [
    "query_14 = '''\n",
    "\n",
    "        SELECT\n",
    "            AVG(sub_review_cnt.review_cnt) AS avg_review_cnt\n",
    "        FROM\n",
    "            (SELECT\n",
    "                COUNT(text) AS review_cnt\n",
    "            FROM \n",
    "                reviews\n",
    "            WHERE username IN\n",
    "                (SELECT username\n",
    "                FROM \n",
    "                    ratings\n",
    "                GROUP BY\n",
    "                    username\n",
    "                HAVING\n",
    "                    COUNT(ratings) > 50)\n",
    "            GROUP BY \n",
    "                    username\n",
    "            ) AS sub_review_cnt  \n",
    "            \n",
    "        '''\n",
    "        \n",
    "avg_count_review = pd.io.sql.read_sql(query_14, con = engine)\n",
    "avg_count_review"
   ]
  },
  {
   "cell_type": "markdown",
   "metadata": {},
   "source": [
    "Среднее количество обзоров от пользователей, которые поставили больше 50 оценок составляет 24 обзора."
   ]
  },
  {
   "cell_type": "markdown",
   "metadata": {},
   "source": [
    "[К содержанию](#content)"
   ]
  },
  {
   "cell_type": "markdown",
   "metadata": {},
   "source": [
    "# Выводы:\n",
    "[](#sql8)\n",
    "<a id='sql8'></a>"
   ]
  },
  {
   "cell_type": "markdown",
   "metadata": {},
   "source": [
    "- При выведении первых строк таблиц, отметим, что названия столбцов адекватно отображают своё содержимое. Явных признаков некорректного заполнения не обнаружено;\n",
    "- По данным таблицы books, после первого января 2000 года вышла 821 книга;\n",
    "\n",
    "Для каждой книги посчитали количество обзоров и среднюю оценку\n",
    "\n",
    "\n",
    "Топ-5 книг (на самом деле первые пять книг таблицы books) с наибольшими показателями средней оценки, и максимумом обзоров:\n",
    "- A Dirty Job (Grim Reaper #1) - Кристофер Мур \"Грязная работа\"\n",
    "- Moneyball: The Art of Winning an Unfair Game - Майкл Льюис \"Денежный шар\"\n",
    "- School's Out—Forever (Maximum Ride #2) - Джеймс Паттерсон \"Максимальная поездка: Школа закрыта Навсегда\"\n",
    "- Act of Treason (Mitch Rapp #9) - Винс Флинн \"Акт государственной измены\"\n",
    "- A Fistful of Charms (The Hollows #4) - Ким Харрисон \"Пригоршня прелестей\"\t\n",
    "\n",
    "Топ-5 книг с максимумом обзоров:\n",
    "- Twilight (Twilight #1) - Стефани Майер \"Сумерки\";\n",
    "- Outlander (Outlander #1) - Гэблдон Диана \"Чужестранка\";\n",
    "- Eat Pray Love - Элизабет Гилберт \"Есть, молиться, любить\";\n",
    "- Harry Potter and the Chamber of Secrets - Джоан Роулинг \"Гарри Поттер и Тайная комната\";\n",
    "- Harry Potter and the Prisoner of Azkaban - Джоан Роулинг \"Гарри Поттер и узник Азкабана\".\n",
    "\n",
    "Обратим внимание на то, что каждое из произведений, попавших в список первых строк по максимальному количеству обзоров, обязательно имеет экранизацию.\n",
    "\n",
    "Топ-5 книг с наибольшими показателями средней оценки:\n",
    "- A Woman of Substance (Emma Harte Saga #1)\t- Барбара Брэдфорд \"Состоятельная женщина\";\n",
    "- Act of Treason (Mitch Rapp #9) - Винс Флинн \"Акт государственной измены\"\n",
    "- A Dirty Job (Grim Reaper #1) - Кристофер Мур \"Грязная работа\"\n",
    "- A Fistful of Charms (The Hollows #4) - Ким Харрисон \"Пригоршня прелестей\"\n",
    "- Alas Babylon\t- Пэт Франк \"Увы, Вавилон\"\n",
    "\n",
    "Обратим внимание на пересечение произведений по критерию самого высокого показателя среднего рейтинга и объединённого критерия - с наибольшими показателями средней оценки, и максимумом обзоров:\n",
    "- Act of Treason (Mitch Rapp #9) - Винс Флинн \"Акт государственной измены\"\n",
    "- A Dirty Job (Grim Reaper #1) - Кристофер Мур \"Грязная работа\"\n",
    "- A Fistful of Charms (The Hollows #4) - Ким Харрисон \"Пригоршня прелестей\"\n",
    "\n",
    "В таблице publishers представлено максимальное количество изданий издательства Penguin Books - 42 произведения толще 50 страниц;\n",
    "\n",
    "Автор с самой высокой средней оценкой книг (с 50 и более оценками) - Джоан Роулинг. При выводе фамилий всех авторов с высокой средней оценкой книг (с учётом 50 или более оценок) мы получили список из 23 авторов:\n",
    "\n",
    "1. Джоан Роулинг - Британская писательница\n",
    "2. Агата Кристи -  Британская писательница\n",
    "3. Маркус Зузак - Австралийский писатель\n",
    "4. Джон Рональд Руэл Толкин - Британский писатель\n",
    "5. Роальд Даль/Квентин Блейк - Британский писатель/Британский карикатурист\n",
    "6. Луиза Мэй Олкотт - Американская писательница\n",
    "7. Рик Риордан - Американский писатель\n",
    "8. Артур Голден - Американский писатель\n",
    "9. Стивен Кинг - Американский писатель\n",
    "10. Джон Гришэм - Американский писатель\n",
    "11. Уильям Голдинг - Британский писатель\n",
    "12. Николас Спаркс - Американский писатель\n",
    "13. Джоди Пиколт - Американская писательница\n",
    "14. Софи Кинселла - Британская писательница\n",
    "15. Джеймс Паттерсон - Американский писатель\n",
    "16. Джером Дэвид Сэлинджер - Американский писатель\n",
    "17. Пауло Коэльо/Кларк Ричард Алан/Оздемир Инс - Бразильский писатель/Американский публицист/Турецкий поэт\n",
    "18. Уильям Шекспир/Пол Верстайн/Барбара А. Моуэт - Британский поэт/Редактор/Редактор\n",
    "19. Дэн Браун - Американский писатель\n",
    "20. Лоис Лоури - Американская писательница\n",
    "21. Джордж Оруэлл/Борис Грабнар/Питер Скерл - Британский писатель/Переводчик/Шведский сценарист\n",
    "22. Стефани Майер - Американская писательница\n",
    "23. Джон Стейнбек - Американский писатель\n",
    "\n",
    "Стоит отметить следующее наблюдение - за исключением Пауло Коэльо (Бразильский писатель), Оздемир Инс (Турецкий поэт) и Питер Скерл (Шведский сценарист), все остальные представленные авторы являются представителями англоязычных стран.\n",
    "\n",
    "Вспомним условие поставленной задачи:\n",
    "\n",
    "Наша компания решила быть на волне и купила крупный сервис для чтения книг по подписке. Наша первая задача как аналитика — проанализировать базу данных. В ней — информация о книгах, издательствах, авторах, а также пользовательские обзоры книг. Эти данные помогут сформулировать ценностное предложение для нового продукта.\n",
    "\n",
    "Ни в коей мере не умаляя заслуги приведённых авторов и, более того, признавая несомненную гениальность некоторых их них, отметим всё же, что отсутствие европейских, латиноамериканских, российских и прочих авторов, может создать однобокость, на которую российские читатели по подписке не применут обратить внимание. Согласно вышеупомянутому наблюдению, в российской читательской среде данная база данных может иметь не столь высокий успех, как в англоязычных странах, где она, вероятно, и была приобретена.\n",
    "\n",
    "Среднее количество обзоров от пользователей, которые поставили больше 50 оценок составляет 24 обзора."
   ]
  }
 ],
 "metadata": {
  "ExecuteTimeLog": [
   {
    "duration": 817,
    "start_time": "2021-08-25T20:43:51.324Z"
   },
   {
    "duration": 4,
    "start_time": "2021-08-25T20:43:52.143Z"
   },
   {
    "duration": 12,
    "start_time": "2021-08-25T20:43:52.151Z"
   },
   {
    "duration": 46,
    "start_time": "2021-08-25T20:43:52.165Z"
   },
   {
    "duration": 233,
    "start_time": "2021-08-25T20:43:52.214Z"
   },
   {
    "duration": 64,
    "start_time": "2021-08-25T20:43:52.450Z"
   },
   {
    "duration": 63,
    "start_time": "2021-08-25T20:43:52.517Z"
   },
   {
    "duration": 64,
    "start_time": "2021-08-25T20:43:52.584Z"
   },
   {
    "duration": 64,
    "start_time": "2021-08-25T20:43:52.651Z"
   },
   {
    "duration": 13,
    "start_time": "2021-08-25T20:43:52.718Z"
   },
   {
    "duration": 64,
    "start_time": "2021-08-25T20:43:52.734Z"
   },
   {
    "duration": 10,
    "start_time": "2021-08-25T20:43:52.801Z"
   },
   {
    "duration": 11,
    "start_time": "2021-08-25T20:43:52.813Z"
   },
   {
    "duration": 101,
    "start_time": "2021-08-25T20:43:52.862Z"
   },
   {
    "duration": 81,
    "start_time": "2021-08-25T20:43:52.965Z"
   },
   {
    "duration": 74,
    "start_time": "2021-08-25T20:43:53.049Z"
   },
   {
    "duration": 74,
    "start_time": "2021-08-25T20:43:53.126Z"
   },
   {
    "duration": 8,
    "start_time": "2021-08-25T20:43:53.203Z"
   },
   {
    "duration": 80,
    "start_time": "2021-08-25T20:43:53.213Z"
   },
   {
    "duration": 8,
    "start_time": "2021-08-25T20:43:53.295Z"
   },
   {
    "duration": 85,
    "start_time": "2021-08-25T20:43:53.305Z"
   },
   {
    "duration": 72,
    "start_time": "2021-08-25T20:43:53.393Z"
   },
   {
    "duration": 66,
    "start_time": "2021-08-25T20:43:53.467Z"
   },
   {
    "duration": 589,
    "start_time": "2021-08-26T16:37:08.696Z"
   },
   {
    "duration": 3,
    "start_time": "2021-08-26T16:37:09.287Z"
   },
   {
    "duration": 6,
    "start_time": "2021-08-26T16:37:09.292Z"
   },
   {
    "duration": 28,
    "start_time": "2021-08-26T16:37:09.299Z"
   },
   {
    "duration": 277,
    "start_time": "2021-08-26T16:37:09.328Z"
   },
   {
    "duration": 79,
    "start_time": "2021-08-26T16:37:09.607Z"
   },
   {
    "duration": 76,
    "start_time": "2021-08-26T16:37:09.688Z"
   },
   {
    "duration": 77,
    "start_time": "2021-08-26T16:37:09.766Z"
   },
   {
    "duration": 79,
    "start_time": "2021-08-26T16:37:09.845Z"
   },
   {
    "duration": 7,
    "start_time": "2021-08-26T16:37:09.926Z"
   },
   {
    "duration": 82,
    "start_time": "2021-08-26T16:37:09.934Z"
   },
   {
    "duration": 6,
    "start_time": "2021-08-26T16:37:10.018Z"
   },
   {
    "duration": 10,
    "start_time": "2021-08-26T16:37:10.025Z"
   },
   {
    "duration": 120,
    "start_time": "2021-08-26T16:37:10.037Z"
   },
   {
    "duration": 86,
    "start_time": "2021-08-26T16:37:10.158Z"
   },
   {
    "duration": 85,
    "start_time": "2021-08-26T16:37:10.245Z"
   },
   {
    "duration": 93,
    "start_time": "2021-08-26T16:37:10.331Z"
   },
   {
    "duration": 6,
    "start_time": "2021-08-26T16:37:10.426Z"
   },
   {
    "duration": 81,
    "start_time": "2021-08-26T16:37:10.433Z"
   },
   {
    "duration": 6,
    "start_time": "2021-08-26T16:37:10.516Z"
   },
   {
    "duration": 84,
    "start_time": "2021-08-26T16:37:10.524Z"
   },
   {
    "duration": 82,
    "start_time": "2021-08-26T16:37:10.610Z"
   },
   {
    "duration": 81,
    "start_time": "2021-08-26T16:37:10.694Z"
   },
   {
    "duration": 74,
    "start_time": "2021-08-26T16:38:18.902Z"
   },
   {
    "duration": 802,
    "start_time": "2021-08-26T17:18:21.432Z"
   },
   {
    "duration": 853,
    "start_time": "2021-08-26T17:18:47.880Z"
   },
   {
    "duration": 4,
    "start_time": "2021-08-26T17:18:48.735Z"
   },
   {
    "duration": 19,
    "start_time": "2021-08-26T17:18:48.743Z"
   },
   {
    "duration": 45,
    "start_time": "2021-08-26T17:18:48.765Z"
   },
   {
    "duration": 220,
    "start_time": "2021-08-26T17:18:48.813Z"
   },
   {
    "duration": 62,
    "start_time": "2021-08-26T17:18:49.035Z"
   },
   {
    "duration": 60,
    "start_time": "2021-08-26T17:18:49.099Z"
   },
   {
    "duration": 64,
    "start_time": "2021-08-26T17:18:49.161Z"
   },
   {
    "duration": 63,
    "start_time": "2021-08-26T17:18:49.230Z"
   },
   {
    "duration": 11,
    "start_time": "2021-08-26T17:18:49.296Z"
   },
   {
    "duration": 62,
    "start_time": "2021-08-26T17:18:49.309Z"
   },
   {
    "duration": 60,
    "start_time": "2021-08-26T17:18:49.374Z"
   },
   {
    "duration": 9,
    "start_time": "2021-08-26T17:18:49.437Z"
   },
   {
    "duration": 10,
    "start_time": "2021-08-26T17:18:49.449Z"
   },
   {
    "duration": 100,
    "start_time": "2021-08-26T17:18:49.461Z"
   },
   {
    "duration": 79,
    "start_time": "2021-08-26T17:18:49.564Z"
   },
   {
    "duration": 72,
    "start_time": "2021-08-26T17:18:49.645Z"
   },
   {
    "duration": 74,
    "start_time": "2021-08-26T17:18:49.719Z"
   },
   {
    "duration": 89,
    "start_time": "2021-08-26T17:18:49.796Z"
   },
   {
    "duration": 9,
    "start_time": "2021-08-26T17:18:49.888Z"
   },
   {
    "duration": 76,
    "start_time": "2021-08-26T17:18:49.900Z"
   },
   {
    "duration": 11,
    "start_time": "2021-08-26T17:18:49.980Z"
   },
   {
    "duration": 80,
    "start_time": "2021-08-26T17:18:49.994Z"
   },
   {
    "duration": 72,
    "start_time": "2021-08-26T17:18:50.079Z"
   },
   {
    "duration": 66,
    "start_time": "2021-08-26T17:18:50.153Z"
   },
   {
    "duration": 76,
    "start_time": "2021-08-26T17:39:32.530Z"
   },
   {
    "duration": 413,
    "start_time": "2021-08-26T17:42:37.693Z"
   },
   {
    "duration": 73,
    "start_time": "2021-08-26T17:48:24.144Z"
   },
   {
    "duration": 74,
    "start_time": "2021-08-26T17:49:03.590Z"
   },
   {
    "duration": 323,
    "start_time": "2021-08-26T18:01:15.615Z"
   },
   {
    "duration": 344,
    "start_time": "2021-08-26T18:01:50.230Z"
   },
   {
    "duration": 295,
    "start_time": "2021-08-26T18:03:10.388Z"
   },
   {
    "duration": 76,
    "start_time": "2021-08-26T18:06:19.959Z"
   },
   {
    "duration": 526,
    "start_time": "2021-08-26T18:06:43.571Z"
   },
   {
    "duration": 1095,
    "start_time": "2021-08-26T18:24:23.952Z"
   },
   {
    "duration": 12,
    "start_time": "2021-08-26T18:24:25.051Z"
   },
   {
    "duration": 12,
    "start_time": "2021-08-26T18:24:25.067Z"
   },
   {
    "duration": 60,
    "start_time": "2021-08-26T18:24:25.083Z"
   },
   {
    "duration": 264,
    "start_time": "2021-08-26T18:24:25.147Z"
   },
   {
    "duration": 70,
    "start_time": "2021-08-26T18:24:25.414Z"
   },
   {
    "duration": 71,
    "start_time": "2021-08-26T18:24:25.487Z"
   },
   {
    "duration": 71,
    "start_time": "2021-08-26T18:24:25.561Z"
   },
   {
    "duration": 68,
    "start_time": "2021-08-26T18:24:25.636Z"
   },
   {
    "duration": 11,
    "start_time": "2021-08-26T18:24:25.707Z"
   },
   {
    "duration": 66,
    "start_time": "2021-08-26T18:24:25.721Z"
   },
   {
    "duration": 64,
    "start_time": "2021-08-26T18:24:25.790Z"
   },
   {
    "duration": 10,
    "start_time": "2021-08-26T18:24:25.856Z"
   },
   {
    "duration": 16,
    "start_time": "2021-08-26T18:24:25.868Z"
   },
   {
    "duration": 118,
    "start_time": "2021-08-26T18:24:25.887Z"
   },
   {
    "duration": 547,
    "start_time": "2021-08-26T18:24:26.008Z"
   },
   {
    "duration": -1974,
    "start_time": "2021-08-26T18:24:28.533Z"
   },
   {
    "duration": -1975,
    "start_time": "2021-08-26T18:24:28.536Z"
   },
   {
    "duration": -1975,
    "start_time": "2021-08-26T18:24:28.538Z"
   },
   {
    "duration": -2055,
    "start_time": "2021-08-26T18:24:28.620Z"
   },
   {
    "duration": -2058,
    "start_time": "2021-08-26T18:24:28.625Z"
   },
   {
    "duration": -2058,
    "start_time": "2021-08-26T18:24:28.627Z"
   },
   {
    "duration": -2141,
    "start_time": "2021-08-26T18:24:28.712Z"
   },
   {
    "duration": -2141,
    "start_time": "2021-08-26T18:24:28.714Z"
   },
   {
    "duration": -2142,
    "start_time": "2021-08-26T18:24:28.717Z"
   },
   {
    "duration": -2142,
    "start_time": "2021-08-26T18:24:28.719Z"
   },
   {
    "duration": 79,
    "start_time": "2021-08-26T18:26:58.114Z"
   },
   {
    "duration": 77,
    "start_time": "2021-08-26T18:27:50.141Z"
   },
   {
    "duration": 782,
    "start_time": "2021-08-26T18:28:04.612Z"
   },
   {
    "duration": 4,
    "start_time": "2021-08-26T18:28:05.396Z"
   },
   {
    "duration": 28,
    "start_time": "2021-08-26T18:28:05.403Z"
   },
   {
    "duration": 41,
    "start_time": "2021-08-26T18:28:05.434Z"
   },
   {
    "duration": 211,
    "start_time": "2021-08-26T18:28:05.477Z"
   },
   {
    "duration": 59,
    "start_time": "2021-08-26T18:28:05.690Z"
   },
   {
    "duration": 59,
    "start_time": "2021-08-26T18:28:05.752Z"
   },
   {
    "duration": 60,
    "start_time": "2021-08-26T18:28:05.813Z"
   },
   {
    "duration": 62,
    "start_time": "2021-08-26T18:28:05.878Z"
   },
   {
    "duration": 16,
    "start_time": "2021-08-26T18:28:05.943Z"
   },
   {
    "duration": 68,
    "start_time": "2021-08-26T18:28:05.961Z"
   },
   {
    "duration": 60,
    "start_time": "2021-08-26T18:28:06.032Z"
   },
   {
    "duration": 13,
    "start_time": "2021-08-26T18:28:06.095Z"
   },
   {
    "duration": 26,
    "start_time": "2021-08-26T18:28:06.111Z"
   },
   {
    "duration": 102,
    "start_time": "2021-08-26T18:28:06.139Z"
   },
   {
    "duration": 67,
    "start_time": "2021-08-26T18:28:06.243Z"
   },
   {
    "duration": 70,
    "start_time": "2021-08-26T18:28:06.313Z"
   },
   {
    "duration": 71,
    "start_time": "2021-08-26T18:28:06.386Z"
   },
   {
    "duration": 70,
    "start_time": "2021-08-26T18:28:06.459Z"
   },
   {
    "duration": 71,
    "start_time": "2021-08-26T18:28:06.531Z"
   },
   {
    "duration": 9,
    "start_time": "2021-08-26T18:28:06.604Z"
   },
   {
    "duration": 63,
    "start_time": "2021-08-26T18:28:06.616Z"
   },
   {
    "duration": 9,
    "start_time": "2021-08-26T18:28:06.682Z"
   },
   {
    "duration": 67,
    "start_time": "2021-08-26T18:28:06.693Z"
   },
   {
    "duration": 67,
    "start_time": "2021-08-26T18:28:06.763Z"
   },
   {
    "duration": 63,
    "start_time": "2021-08-26T18:28:06.833Z"
   },
   {
    "duration": 131,
    "start_time": "2021-08-26T18:36:01.800Z"
   },
   {
    "duration": 62,
    "start_time": "2021-08-26T18:36:13.568Z"
   },
   {
    "duration": 112,
    "start_time": "2021-08-26T18:36:23.813Z"
   },
   {
    "duration": 66,
    "start_time": "2021-08-26T18:36:32.785Z"
   },
   {
    "duration": 406,
    "start_time": "2021-08-26T18:41:38.125Z"
   },
   {
    "duration": 162,
    "start_time": "2021-08-26T18:41:52.978Z"
   },
   {
    "duration": 78,
    "start_time": "2021-08-26T18:42:32.869Z"
   },
   {
    "duration": 112,
    "start_time": "2021-08-26T18:42:34.559Z"
   },
   {
    "duration": 93,
    "start_time": "2021-08-26T19:03:58.941Z"
   },
   {
    "duration": 392,
    "start_time": "2021-08-26T19:43:03.414Z"
   },
   {
    "duration": 357,
    "start_time": "2021-08-26T19:46:09.827Z"
   },
   {
    "duration": 77,
    "start_time": "2021-08-26T19:47:46.974Z"
   },
   {
    "duration": 319,
    "start_time": "2021-08-26T19:52:27.405Z"
   },
   {
    "duration": 78,
    "start_time": "2021-08-26T19:53:20.129Z"
   },
   {
    "duration": 367,
    "start_time": "2021-08-26T19:53:51.362Z"
   },
   {
    "duration": 363,
    "start_time": "2021-08-26T19:56:49.725Z"
   },
   {
    "duration": 349,
    "start_time": "2021-08-26T19:58:28.184Z"
   },
   {
    "duration": 327,
    "start_time": "2021-08-26T20:01:07.302Z"
   },
   {
    "duration": 77,
    "start_time": "2021-08-26T20:03:22.244Z"
   },
   {
    "duration": 334,
    "start_time": "2021-08-26T20:21:28.697Z"
   },
   {
    "duration": 96,
    "start_time": "2021-08-26T20:21:34.963Z"
   },
   {
    "duration": 80,
    "start_time": "2021-08-26T20:22:19.131Z"
   },
   {
    "duration": 78,
    "start_time": "2021-08-26T20:22:38.600Z"
   },
   {
    "duration": 382,
    "start_time": "2021-08-26T20:34:37.148Z"
   },
   {
    "duration": 349,
    "start_time": "2021-08-26T20:36:10.378Z"
   },
   {
    "duration": 364,
    "start_time": "2021-08-26T20:36:44.859Z"
   },
   {
    "duration": 358,
    "start_time": "2021-08-26T20:41:33.277Z"
   },
   {
    "duration": 321,
    "start_time": "2021-08-26T20:48:54.018Z"
   },
   {
    "duration": 335,
    "start_time": "2021-08-26T20:55:26.166Z"
   },
   {
    "duration": 351,
    "start_time": "2021-08-26T20:56:09.157Z"
   },
   {
    "duration": 338,
    "start_time": "2021-08-26T20:57:23.208Z"
   },
   {
    "duration": 344,
    "start_time": "2021-08-26T20:57:57.199Z"
   },
   {
    "duration": 335,
    "start_time": "2021-08-26T21:48:01.148Z"
   },
   {
    "duration": 358,
    "start_time": "2021-08-26T22:00:40.551Z"
   },
   {
    "duration": 343,
    "start_time": "2021-08-26T22:04:03.620Z"
   },
   {
    "duration": 295,
    "start_time": "2021-08-26T22:04:47.405Z"
   },
   {
    "duration": 324,
    "start_time": "2021-08-26T22:12:59.417Z"
   },
   {
    "duration": 320,
    "start_time": "2021-08-26T22:14:09.436Z"
   },
   {
    "duration": 363,
    "start_time": "2021-08-26T22:15:46.230Z"
   },
   {
    "duration": 325,
    "start_time": "2021-08-26T22:18:05.582Z"
   },
   {
    "duration": 356,
    "start_time": "2021-08-26T22:19:49.305Z"
   },
   {
    "duration": 363,
    "start_time": "2021-08-26T22:20:42.224Z"
   },
   {
    "duration": 94,
    "start_time": "2021-08-26T22:21:16.439Z"
   },
   {
    "duration": 380,
    "start_time": "2021-08-26T22:23:23.172Z"
   },
   {
    "duration": 309,
    "start_time": "2021-08-26T22:23:48.087Z"
   },
   {
    "duration": 354,
    "start_time": "2021-08-26T22:25:18.743Z"
   },
   {
    "duration": 393,
    "start_time": "2021-08-26T22:28:35.816Z"
   },
   {
    "duration": 363,
    "start_time": "2021-08-26T22:29:44.215Z"
   },
   {
    "duration": 310,
    "start_time": "2021-08-26T22:31:31.664Z"
   },
   {
    "duration": 94,
    "start_time": "2021-08-26T22:42:41.974Z"
   },
   {
    "duration": 364,
    "start_time": "2021-08-26T22:43:20.012Z"
   },
   {
    "duration": 94,
    "start_time": "2021-08-26T22:43:32.015Z"
   },
   {
    "duration": 107,
    "start_time": "2021-08-26T22:44:17.899Z"
   },
   {
    "duration": 93,
    "start_time": "2021-08-26T22:45:45.052Z"
   },
   {
    "duration": 322,
    "start_time": "2021-08-26T22:46:56.703Z"
   },
   {
    "duration": 93,
    "start_time": "2021-08-26T22:48:35.749Z"
   },
   {
    "duration": 934,
    "start_time": "2021-08-26T22:48:54.997Z"
   },
   {
    "duration": 94,
    "start_time": "2021-08-26T22:50:31.156Z"
   },
   {
    "duration": 315,
    "start_time": "2021-08-26T22:51:14.138Z"
   },
   {
    "duration": 371,
    "start_time": "2021-08-26T22:52:04.799Z"
   },
   {
    "duration": 338,
    "start_time": "2021-08-26T22:52:16.057Z"
   },
   {
    "duration": 340,
    "start_time": "2021-08-26T22:53:27.920Z"
   },
   {
    "duration": 94,
    "start_time": "2021-08-26T22:54:09.616Z"
   },
   {
    "duration": 94,
    "start_time": "2021-08-26T22:57:31.663Z"
   },
   {
    "duration": 92,
    "start_time": "2021-08-26T22:59:03.585Z"
   },
   {
    "duration": 92,
    "start_time": "2021-08-26T22:59:24.659Z"
   },
   {
    "duration": 92,
    "start_time": "2021-08-26T22:59:37.806Z"
   },
   {
    "duration": 92,
    "start_time": "2021-08-26T23:00:23.928Z"
   },
   {
    "duration": 95,
    "start_time": "2021-08-26T23:01:03.525Z"
   },
   {
    "duration": 93,
    "start_time": "2021-08-26T23:02:13.287Z"
   },
   {
    "duration": 343,
    "start_time": "2021-08-26T23:02:55.501Z"
   },
   {
    "duration": 367,
    "start_time": "2021-08-26T23:04:01.843Z"
   },
   {
    "duration": 363,
    "start_time": "2021-08-26T23:04:15.139Z"
   },
   {
    "duration": 125,
    "start_time": "2021-08-26T23:04:58.789Z"
   },
   {
    "duration": 455,
    "start_time": "2021-08-26T23:07:58.562Z"
   },
   {
    "duration": 366,
    "start_time": "2021-08-26T23:14:33.276Z"
   },
   {
    "duration": 327,
    "start_time": "2021-08-26T23:15:36.499Z"
   },
   {
    "duration": 402,
    "start_time": "2021-08-26T23:17:55.414Z"
   },
   {
    "duration": 95,
    "start_time": "2021-08-26T23:19:19.867Z"
   },
   {
    "duration": 95,
    "start_time": "2021-08-26T23:20:28.444Z"
   },
   {
    "duration": 94,
    "start_time": "2021-08-26T23:23:03.301Z"
   },
   {
    "duration": 10,
    "start_time": "2021-08-27T00:10:45.271Z"
   },
   {
    "duration": 313,
    "start_time": "2021-08-27T00:18:40.724Z"
   },
   {
    "duration": 347,
    "start_time": "2021-08-27T00:21:06.004Z"
   },
   {
    "duration": 12,
    "start_time": "2021-08-27T00:36:31.046Z"
   },
   {
    "duration": 345,
    "start_time": "2021-08-27T00:42:17.226Z"
   },
   {
    "duration": 319,
    "start_time": "2021-08-27T00:42:56.525Z"
   },
   {
    "duration": 349,
    "start_time": "2021-08-27T00:43:15.166Z"
   },
   {
    "duration": 359,
    "start_time": "2021-08-27T00:43:38.562Z"
   },
   {
    "duration": 315,
    "start_time": "2021-08-27T00:44:06.015Z"
   },
   {
    "duration": 325,
    "start_time": "2021-08-27T00:45:13.782Z"
   },
   {
    "duration": 359,
    "start_time": "2021-08-27T00:45:51.159Z"
   },
   {
    "duration": 345,
    "start_time": "2021-08-27T00:46:29.556Z"
   },
   {
    "duration": 333,
    "start_time": "2021-08-27T00:48:40.163Z"
   },
   {
    "duration": 351,
    "start_time": "2021-08-27T00:50:33.143Z"
   },
   {
    "duration": 67,
    "start_time": "2021-08-27T00:55:09.555Z"
   },
   {
    "duration": 67,
    "start_time": "2021-08-27T01:01:41.923Z"
   },
   {
    "duration": 112,
    "start_time": "2021-08-27T01:04:38.129Z"
   },
   {
    "duration": 781,
    "start_time": "2021-08-27T01:18:57.281Z"
   },
   {
    "duration": 3,
    "start_time": "2021-08-27T01:18:58.065Z"
   },
   {
    "duration": 7,
    "start_time": "2021-08-27T01:18:58.071Z"
   },
   {
    "duration": 39,
    "start_time": "2021-08-27T01:18:58.080Z"
   },
   {
    "duration": 234,
    "start_time": "2021-08-27T01:18:58.121Z"
   },
   {
    "duration": 65,
    "start_time": "2021-08-27T01:18:58.358Z"
   },
   {
    "duration": 66,
    "start_time": "2021-08-27T01:18:58.425Z"
   },
   {
    "duration": 66,
    "start_time": "2021-08-27T01:18:58.495Z"
   },
   {
    "duration": 68,
    "start_time": "2021-08-27T01:18:58.564Z"
   },
   {
    "duration": 12,
    "start_time": "2021-08-27T01:18:58.635Z"
   },
   {
    "duration": 67,
    "start_time": "2021-08-27T01:18:58.649Z"
   },
   {
    "duration": 63,
    "start_time": "2021-08-27T01:18:58.719Z"
   },
   {
    "duration": 9,
    "start_time": "2021-08-27T01:18:58.785Z"
   },
   {
    "duration": 11,
    "start_time": "2021-08-27T01:18:58.796Z"
   },
   {
    "duration": 111,
    "start_time": "2021-08-27T01:18:58.809Z"
   },
   {
    "duration": 76,
    "start_time": "2021-08-27T01:18:58.923Z"
   },
   {
    "duration": 75,
    "start_time": "2021-08-27T01:18:59.001Z"
   },
   {
    "duration": 75,
    "start_time": "2021-08-27T01:18:59.079Z"
   },
   {
    "duration": 8,
    "start_time": "2021-08-27T01:18:59.156Z"
   },
   {
    "duration": 68,
    "start_time": "2021-08-27T01:18:59.166Z"
   },
   {
    "duration": 11,
    "start_time": "2021-08-27T01:18:59.236Z"
   },
   {
    "duration": 11,
    "start_time": "2021-08-27T01:18:59.249Z"
   },
   {
    "duration": 9,
    "start_time": "2021-08-27T01:18:59.264Z"
   },
   {
    "duration": 74,
    "start_time": "2021-08-27T01:18:59.275Z"
   },
   {
    "duration": 73,
    "start_time": "2021-08-27T01:18:59.352Z"
   },
   {
    "duration": 67,
    "start_time": "2021-08-27T01:18:59.428Z"
   }
  ],
  "kernelspec": {
   "display_name": "Python 3",
   "language": "python",
   "name": "python3"
  },
  "language_info": {
   "codemirror_mode": {
    "name": "ipython",
    "version": 3
   },
   "file_extension": ".py",
   "mimetype": "text/x-python",
   "name": "python",
   "nbconvert_exporter": "python",
   "pygments_lexer": "ipython3",
   "version": "3.8.5"
  },
  "toc": {
   "base_numbering": 1,
   "nav_menu": {},
   "number_sections": true,
   "sideBar": true,
   "skip_h1_title": true,
   "title_cell": "Table of Contents",
   "title_sidebar": "Contents",
   "toc_cell": false,
   "toc_position": {},
   "toc_section_display": true,
   "toc_window_display": false
  }
 },
 "nbformat": 4,
 "nbformat_minor": 2
}
